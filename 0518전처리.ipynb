{
 "cells": [
  {
   "cell_type": "code",
   "execution_count": 1,
   "metadata": {
    "colab": {
     "base_uri": "https://localhost:8080/"
    },
    "id": "FSre47L4vJqh",
    "outputId": "7b2dc171-3076-4203-c2e8-3e9c54166312"
   },
   "outputs": [
    {
     "name": "stdout",
     "output_type": "stream",
     "text": [
      "/content/drive/MyDrive/데이터사이언스\n"
     ]
    }
   ],
   "source": [
    "%cd \"/content/drive/MyDrive/데이터사이언스\""
   ]
  },
  {
   "cell_type": "code",
   "execution_count": 2,
   "metadata": {
    "colab": {
     "base_uri": "https://localhost:8080/"
    },
    "id": "51P3LkhAvTBO",
    "outputId": "984f431b-a227-460a-89a8-f9434a8f745e"
   },
   "outputs": [
    {
     "name": "stdout",
     "output_type": "stream",
     "text": [
      " df_07_12.csv\n",
      " Untitled0.ipynb\n",
      " 고장낸사람찾기.ipynb\n",
      "'대여소별 이용정보(월별)_22.7-22.12.csv'\n",
      "'대여소 정보(22.12월 기준).csv'\n",
      "'대여이력 정보_2207.csv'\n",
      "'대여이력 정보_2208.csv'\n",
      "'대여이력 정보_2209.csv'\n",
      "'대여이력 정보_2210.csv'\n",
      "'대여이력 정보_2211.csv'\n",
      "'대여이력 정보_2212.csv'\n",
      "'서울시 공공자전거 고장신고 내역_22.07-12.csv'\n",
      "'서울특별시 공공자전거 이용정보(일별)_2212.csv'\n",
      "'신규가입자 정보(월별)_22.07~22.12.csv'\n"
     ]
    }
   ],
   "source": [
    "!ls"
   ]
  },
  {
   "cell_type": "code",
   "execution_count": 2,
   "metadata": {
    "id": "1JHWXDBwvcch"
   },
   "outputs": [],
   "source": [
    "import pandas as pd"
   ]
  },
  {
   "cell_type": "markdown",
   "metadata": {
    "id": "wEXwCYvJ9yVq"
   },
   "source": [
    "데이터프레임 불러오기"
   ]
  },
  {
   "cell_type": "code",
   "execution_count": 187,
   "metadata": {
    "id": "n8mHRVnPvf4K"
   },
   "outputs": [],
   "source": [
    "df = pd.read_csv(\"서울특별시 공공자전거 대여이력 정보_2207.csv\")\n",
    "broken = pd.read_csv(\"서울시 공공자전거 고장신고 내역_22.07-12.csv\")"
   ]
  },
  {
   "cell_type": "markdown",
   "metadata": {
    "id": "ujwnujU252XI"
   },
   "source": [
    "날짜 연산을 위한 형변환"
   ]
  },
  {
   "cell_type": "code",
   "execution_count": 188,
   "metadata": {
    "id": "7pMj7Mlvvuky"
   },
   "outputs": [
    {
     "name": "stderr",
     "output_type": "stream",
     "text": [
      "C:\\Users\\imihl\\AppData\\Local\\Temp\\ipykernel_12840\\3382928667.py:8: FutureWarning: The default value of regex will change from True to False in a future version. In addition, single character regular expressions will *not* be treated as literal strings when regex=True.\n",
      "  df[\"반납대여소번호\"] = df[\"반납대여소번호\"].str.replace('\\\\','')\n"
     ]
    }
   ],
   "source": [
    "df = df[(df['대여일시'] != '0000-00-00 00:00:00') & (df['반납일시'] != '0000-00-00 00:00:00')]\n",
    "df['대여일시'] = pd.to_datetime(df['대여일시'])\n",
    "df['반납일시'] = pd.to_datetime(df['반납일시'])\n",
    "df.drop(['대여거치대', '반납거치대', '대여대여소ID', '반납대여소ID'], axis=1, inplace=True)\n",
    "df = df[(df['성별'] == 'M') | (df['성별'] == 'F')]\n",
    "df = df[df['생년'] != '1901']\n",
    "df = df[df['생년'] != '\\\\N']\n",
    "df[\"반납대여소번호\"] = df[\"반납대여소번호\"].str.replace('\\\\','')\n",
    "df[\"반납대여소번호\"] = df[\"반납대여소번호\"].str.replace('N','-1')\n",
    "df['대여요일'] = df['대여일시'].dt.day_name()\n",
    "\n",
    "broken['등록일시'] = pd.to_datetime(broken['등록일시'])\n",
    "broken = broken[pd.DatetimeIndex(broken['등록일시']).month == 7]\n"
   ]
  },
  {
   "cell_type": "markdown",
   "metadata": {
    "id": "FBZ1Q0qPevtJ"
   },
   "source": [
    "#고장낸사람찾기"
   ]
  },
  {
   "cell_type": "markdown",
   "metadata": {
    "id": "VWhIuiHD54ZE"
   },
   "source": [
    "중복 신고 날리기 위해, 가장 빠른 신고만 놔두고 다 드랍함"
   ]
  },
  {
   "cell_type": "code",
   "execution_count": 189,
   "metadata": {
    "id": "2ydmZo2vv0VR"
   },
   "outputs": [],
   "source": [
    "broken=broken.drop_duplicates('자전거번호')"
   ]
  },
  {
   "cell_type": "markdown",
   "metadata": {
    "id": "z1c4qtpb8qX1"
   },
   "source": [
    "대여이력과 고장신고내역을 합침"
   ]
  },
  {
   "cell_type": "code",
   "execution_count": 190,
   "metadata": {
    "id": "Ec9jITll76Pf"
   },
   "outputs": [],
   "source": [
    "log=pd.merge(df,broken,on='자전거번호')"
   ]
  },
  {
   "cell_type": "markdown",
   "metadata": {
    "id": "obuvy2Kn6JSI"
   },
   "source": [
    "고장신고 전의 운행내역만 남김"
   ]
  },
  {
   "cell_type": "code",
   "execution_count": 191,
   "metadata": {
    "id": "YgjrBbwHxUrO"
   },
   "outputs": [],
   "source": [
    "log = log[log['대여일시']<=log['등록일시']]"
   ]
  },
  {
   "cell_type": "markdown",
   "metadata": {
    "id": "YDCR-mwP80q2"
   },
   "source": [
    "실제 운행된 것으로 불 수 없는 레이블은 드랍함"
   ]
  },
  {
   "cell_type": "code",
   "execution_count": 192,
   "metadata": {
    "colab": {
     "base_uri": "https://localhost:8080/"
    },
    "id": "hro__AqGzXGy",
    "outputId": "d50c5ad6-88d4-46ad-b9c3-91ea4d2325df"
   },
   "outputs": [
    {
     "data": {
      "text/plain": [
       "(173610, 15)"
      ]
     },
     "execution_count": 192,
     "metadata": {},
     "output_type": "execute_result"
    }
   ],
   "source": [
    "log = log[log['대여 대여소명']!= log['반납대여소명']]#같은곳에서 반납된것 드랍\n",
    "log = log[log['이용시간(분)']>2]#2분미만으로 탄 것 드랍 (이미 고장난 자전거를 대여했다가 반납한것으로 생각함)\n",
    "log.shape"
   ]
  },
  {
   "cell_type": "markdown",
   "metadata": {
    "id": "0T1Wapiy92dr"
   },
   "source": [
    "고장신고 등록일로부터 2일전까지의 내역만 남김 (고장에 유의미한 영향을 줄 수 있는 기간이라고 생각해서. 너무 과거를 볼 필요는 없으므로)"
   ]
  },
  {
   "cell_type": "code",
   "execution_count": 193,
   "metadata": {
    "colab": {
     "base_uri": "https://localhost:8080/"
    },
    "id": "7Pa33srH1jbK",
    "outputId": "cb236db5-15c3-41d6-f222-b00f1669f719"
   },
   "outputs": [
    {
     "data": {
      "text/plain": [
       "(21577, 15)"
      ]
     },
     "execution_count": 193,
     "metadata": {},
     "output_type": "execute_result"
    }
   ],
   "source": [
    "log = log[(log['등록일시']-log['반납일시']) <= pd.to_timedelta(2, unit = 'D')]\n",
    "log.shape"
   ]
  },
  {
   "cell_type": "code",
   "execution_count": 194,
   "metadata": {
    "colab": {
     "base_uri": "https://localhost:8080/",
     "height": 257
    },
    "id": "cuY9Xy6W6xJJ",
    "outputId": "3c92343b-9eff-43b7-c1a8-a8f75f859df7"
   },
   "outputs": [
    {
     "data": {
      "text/html": [
       "<div>\n",
       "<style scoped>\n",
       "    .dataframe tbody tr th:only-of-type {\n",
       "        vertical-align: middle;\n",
       "    }\n",
       "\n",
       "    .dataframe tbody tr th {\n",
       "        vertical-align: top;\n",
       "    }\n",
       "\n",
       "    .dataframe thead th {\n",
       "        text-align: right;\n",
       "    }\n",
       "</style>\n",
       "<table border=\"1\" class=\"dataframe\">\n",
       "  <thead>\n",
       "    <tr style=\"text-align: right;\">\n",
       "      <th></th>\n",
       "      <th>자전거번호</th>\n",
       "      <th>대여일시</th>\n",
       "      <th>대여 대여소번호</th>\n",
       "      <th>대여 대여소명</th>\n",
       "      <th>반납일시</th>\n",
       "      <th>반납대여소번호</th>\n",
       "      <th>반납대여소명</th>\n",
       "      <th>이용시간(분)</th>\n",
       "      <th>이용거리(M)</th>\n",
       "      <th>생년</th>\n",
       "      <th>성별</th>\n",
       "      <th>이용자종류</th>\n",
       "      <th>대여요일</th>\n",
       "      <th>등록일시</th>\n",
       "      <th>고장구분</th>\n",
       "    </tr>\n",
       "  </thead>\n",
       "  <tbody>\n",
       "  </tbody>\n",
       "</table>\n",
       "</div>"
      ],
      "text/plain": [
       "Empty DataFrame\n",
       "Columns: [자전거번호, 대여일시, 대여 대여소번호, 대여 대여소명, 반납일시, 반납대여소번호, 반납대여소명, 이용시간(분), 이용거리(M), 생년, 성별, 이용자종류, 대여요일, 등록일시, 고장구분]\n",
       "Index: []"
      ]
     },
     "execution_count": 194,
     "metadata": {},
     "output_type": "execute_result"
    }
   ],
   "source": [
    "log[log['자전거번호']=='SPB-56324'] #이 자전거는 3개 이용내역중 누가 고장낸걸로 볼 수 있을까? 마지막 이력이 유력함. 근데 첫번째분이 오래 타긴 했네.."
   ]
  },
  {
   "cell_type": "code",
   "execution_count": 195,
   "metadata": {
    "colab": {
     "base_uri": "https://localhost:8080/"
    },
    "id": "r7kG9uD2ynEH",
    "outputId": "60b037ea-aeae-4a89-b388-aefcb09b43fa"
   },
   "outputs": [
    {
     "name": "stdout",
     "output_type": "stream",
     "text": [
      "(3802, 15)\n"
     ]
    }
   ],
   "source": [
    "# log2=log[log.duplicated(['자전거번호'], keep='last')]\n",
    "log2 = log.drop_duplicates(['자전거번호'],keep='last')\n",
    "print(log2.shape)\n",
    "\n",
    "# log2.to_csv(\"brokenHistory.csv\")"
   ]
  },
  {
   "cell_type": "markdown",
   "metadata": {
    "id": "ldZe-rEeesps"
   },
   "source": [
    "#고장안낸사람찾기(사용안함)"
   ]
  },
  {
   "cell_type": "markdown",
   "metadata": {
    "id": "AWZnqz-uFjMh"
   },
   "source": [
    "#수리다녀온자전거찾기\n",
    "\n"
   ]
  },
  {
   "cell_type": "code",
   "execution_count": 196,
   "metadata": {
    "id": "ZNTgQx1I-nar"
   },
   "outputs": [
    {
     "name": "stderr",
     "output_type": "stream",
     "text": [
      "C:\\Users\\imihl\\AppData\\Local\\Temp\\ipykernel_12840\\88983605.py:13: FutureWarning: The default value of regex will change from True to False in a future version. In addition, single character regular expressions will *not* be treated as literal strings when regex=True.\n",
      "  df2[\"반납대여소번호\"] = df2[\"반납대여소번호\"].str.replace('\\\\','')\n"
     ]
    }
   ],
   "source": [
    "broken2 = pd.read_csv(\"서울시 공공자전거 고장신고 내역_22.07-12.csv\")#헷갈려서 새로로드함.\n",
    "df2 = pd.read_csv(\"서울특별시 공공자전거 대여이력 정보_2207.csv\")\n",
    "\n",
    "df2.drop(['대여거치대', '반납거치대', '대여대여소ID', '반납대여소ID'], axis=1, inplace=True)\n",
    "df2 = df2[(df2['대여일시'] != '0000-00-00 00:00:00') & (df2['반납일시'] != '0000-00-00 00:00:00')]\n",
    "df2['대여일시'] = pd.to_datetime(df2['대여일시'])\n",
    "df2['반납일시'] = pd.to_datetime(df2['반납일시'])\n",
    "df2['대여요일'] = df2['대여일시'].dt.day_name()\n",
    "\n",
    "df2 = df2[(df2['성별'] == 'M') | (df2['성별'] == 'F')]\n",
    "df2 = df2[df2['생년'] != '1901']\n",
    "df2 = df2[df2['생년'] != '\\\\N']\n",
    "df2[\"반납대여소번호\"] = df2[\"반납대여소번호\"].str.replace('\\\\','')\n",
    "df2[\"반납대여소번호\"] = df2[\"반납대여소번호\"].str.replace('N','-1')\n",
    "\n",
    "broken2['등록일시'] = pd.to_datetime(broken2['등록일시'])\n",
    "broken2 = broken2[pd.DatetimeIndex(broken2['등록일시']).month == 7]"
   ]
  },
  {
   "cell_type": "code",
   "execution_count": 197,
   "metadata": {
    "id": "94fgm8ZlFk9-"
   },
   "outputs": [],
   "source": [
    "broken2 = broken2.drop_duplicates('자전거번호',keep='last')#마지막 신고이력 남기기\n",
    "\n",
    "good = pd.merge(df2, broken2, on='자전거번호')\n",
    "good = good[good['대여일시']>good['등록일시']]\n",
    "good_first = good.drop_duplicates('자전거번호',keep='first')"
   ]
  },
  {
   "cell_type": "code",
   "execution_count": 198,
   "metadata": {
    "colab": {
     "base_uri": "https://localhost:8080/"
    },
    "id": "eoVeco83IUA6",
    "outputId": "3bd4a4c7-8734-48ea-9d16-9ae7e9e456ea"
   },
   "outputs": [
    {
     "name": "stdout",
     "output_type": "stream",
     "text": [
      "(13052, 15)\n",
      "(1257, 15)\n"
     ]
    }
   ],
   "source": [
    "print(good.shape)#46411\n",
    "print(good_first.shape)#1879"
   ]
  },
  {
   "cell_type": "code",
   "execution_count": 199,
   "metadata": {
    "colab": {
     "base_uri": "https://localhost:8080/"
    },
    "id": "wpUSRuemIWZN",
    "outputId": "8d22f4cb-8651-4ece-c63f-d36711faee1d"
   },
   "outputs": [
    {
     "data": {
      "text/plain": [
       "13674"
      ]
     },
     "execution_count": 199,
     "metadata": {},
     "output_type": "execute_result"
    }
   ],
   "source": [
    "pd.merge(good, good_first, how='outer', indicator=True).query(\"_merge == 'left_only'\").drop(columns=['_merge']).shape[0] + 1879 #디버깅용"
   ]
  },
  {
   "cell_type": "code",
   "execution_count": 200,
   "metadata": {
    "colab": {
     "base_uri": "https://localhost:8080/",
     "height": 354
    },
    "id": "ymmYeHNGIgFN",
    "outputId": "944ee40d-ed30-432d-c473-ca5be7449e3a"
   },
   "outputs": [
    {
     "data": {
      "text/html": [
       "<div>\n",
       "<style scoped>\n",
       "    .dataframe tbody tr th:only-of-type {\n",
       "        vertical-align: middle;\n",
       "    }\n",
       "\n",
       "    .dataframe tbody tr th {\n",
       "        vertical-align: top;\n",
       "    }\n",
       "\n",
       "    .dataframe thead th {\n",
       "        text-align: right;\n",
       "    }\n",
       "</style>\n",
       "<table border=\"1\" class=\"dataframe\">\n",
       "  <thead>\n",
       "    <tr style=\"text-align: right;\">\n",
       "      <th></th>\n",
       "      <th>자전거번호</th>\n",
       "      <th>대여일시</th>\n",
       "      <th>대여 대여소번호</th>\n",
       "      <th>대여 대여소명</th>\n",
       "      <th>반납일시</th>\n",
       "      <th>반납대여소번호</th>\n",
       "      <th>반납대여소명</th>\n",
       "      <th>이용시간(분)</th>\n",
       "      <th>이용거리(M)</th>\n",
       "      <th>생년</th>\n",
       "      <th>성별</th>\n",
       "      <th>이용자종류</th>\n",
       "      <th>대여요일</th>\n",
       "      <th>등록일시</th>\n",
       "      <th>고장구분</th>\n",
       "    </tr>\n",
       "  </thead>\n",
       "  <tbody>\n",
       "    <tr>\n",
       "      <th>1</th>\n",
       "      <td>SPB-52539</td>\n",
       "      <td>2022-07-04 18:33:00</td>\n",
       "      <td>156</td>\n",
       "      <td>서울서부지방법원 앞</td>\n",
       "      <td>2022-07-04 18:52:00</td>\n",
       "      <td>147</td>\n",
       "      <td>마포역 4번출구 뒤</td>\n",
       "      <td>18</td>\n",
       "      <td>1587.86</td>\n",
       "      <td>1984</td>\n",
       "      <td>F</td>\n",
       "      <td>내국인</td>\n",
       "      <td>Monday</td>\n",
       "      <td>2022-07-02 23:59:00</td>\n",
       "      <td>페달</td>\n",
       "    </tr>\n",
       "    <tr>\n",
       "      <th>19</th>\n",
       "      <td>SPB-45293</td>\n",
       "      <td>2022-07-01 16:23:00</td>\n",
       "      <td>3865</td>\n",
       "      <td>이튼타워리버 2차</td>\n",
       "      <td>2022-07-01 16:27:00</td>\n",
       "      <td>3533</td>\n",
       "      <td>건대입구역 사거리(롯데백화점)</td>\n",
       "      <td>3</td>\n",
       "      <td>450.00</td>\n",
       "      <td>2001</td>\n",
       "      <td>F</td>\n",
       "      <td>내국인</td>\n",
       "      <td>Friday</td>\n",
       "      <td>2022-07-01 08:14:00</td>\n",
       "      <td>페달</td>\n",
       "    </tr>\n",
       "    <tr>\n",
       "      <th>53</th>\n",
       "      <td>SPB-54712</td>\n",
       "      <td>2022-07-06 08:32:00</td>\n",
       "      <td>3408</td>\n",
       "      <td>종로타워빌딩</td>\n",
       "      <td>2022-07-06 08:36:00</td>\n",
       "      <td>320</td>\n",
       "      <td>을지로입구역 4번출구 앞</td>\n",
       "      <td>3</td>\n",
       "      <td>480.00</td>\n",
       "      <td>1982</td>\n",
       "      <td>M</td>\n",
       "      <td>내국인</td>\n",
       "      <td>Wednesday</td>\n",
       "      <td>2022-07-02 13:04:00</td>\n",
       "      <td>기타</td>\n",
       "    </tr>\n",
       "    <tr>\n",
       "      <th>57</th>\n",
       "      <td>SPB-49115</td>\n",
       "      <td>2022-07-07 12:40:00</td>\n",
       "      <td>4377</td>\n",
       "      <td>우영테크노센터 앞</td>\n",
       "      <td>2022-07-07 12:46:00</td>\n",
       "      <td>3541</td>\n",
       "      <td>커먼그라운드</td>\n",
       "      <td>5</td>\n",
       "      <td>1010.00</td>\n",
       "      <td>1994</td>\n",
       "      <td>M</td>\n",
       "      <td>내국인</td>\n",
       "      <td>Thursday</td>\n",
       "      <td>2022-07-06 18:50:00</td>\n",
       "      <td>기타</td>\n",
       "    </tr>\n",
       "    <tr>\n",
       "      <th>67</th>\n",
       "      <td>SPB-81336</td>\n",
       "      <td>2022-07-04 11:04:00</td>\n",
       "      <td>3536</td>\n",
       "      <td>중앙농협(자양동)</td>\n",
       "      <td>2022-07-04 11:13:00</td>\n",
       "      <td>505</td>\n",
       "      <td>자양사거리 광진아크로텔 앞</td>\n",
       "      <td>8</td>\n",
       "      <td>910.00</td>\n",
       "      <td>1984</td>\n",
       "      <td>F</td>\n",
       "      <td>내국인</td>\n",
       "      <td>Monday</td>\n",
       "      <td>2022-07-01 08:31:00</td>\n",
       "      <td>타이어</td>\n",
       "    </tr>\n",
       "  </tbody>\n",
       "</table>\n",
       "</div>"
      ],
      "text/plain": [
       "        자전거번호                대여일시  대여 대여소번호     대여 대여소명                반납일시  \\\n",
       "1   SPB-52539 2022-07-04 18:33:00       156  서울서부지방법원 앞 2022-07-04 18:52:00   \n",
       "19  SPB-45293 2022-07-01 16:23:00      3865   이튼타워리버 2차 2022-07-01 16:27:00   \n",
       "53  SPB-54712 2022-07-06 08:32:00      3408      종로타워빌딩 2022-07-06 08:36:00   \n",
       "57  SPB-49115 2022-07-07 12:40:00      4377   우영테크노센터 앞 2022-07-07 12:46:00   \n",
       "67  SPB-81336 2022-07-04 11:04:00      3536   중앙농협(자양동) 2022-07-04 11:13:00   \n",
       "\n",
       "   반납대여소번호            반납대여소명  이용시간(분)  이용거리(M)    생년 성별 이용자종류       대여요일  \\\n",
       "1      147        마포역 4번출구 뒤       18  1587.86  1984  F   내국인     Monday   \n",
       "19    3533  건대입구역 사거리(롯데백화점)        3   450.00  2001  F   내국인     Friday   \n",
       "53     320     을지로입구역 4번출구 앞        3   480.00  1982  M   내국인  Wednesday   \n",
       "57    3541            커먼그라운드        5  1010.00  1994  M   내국인   Thursday   \n",
       "67     505    자양사거리 광진아크로텔 앞        8   910.00  1984  F   내국인     Monday   \n",
       "\n",
       "                  등록일시  고장구분  \n",
       "1  2022-07-02 23:59:00    페달  \n",
       "19 2022-07-01 08:14:00    페달  \n",
       "53 2022-07-02 13:04:00   기타   \n",
       "57 2022-07-06 18:50:00   기타   \n",
       "67 2022-07-01 08:31:00  타이어   "
      ]
     },
     "execution_count": 200,
     "metadata": {},
     "output_type": "execute_result"
    }
   ],
   "source": [
    "good_exceptfirst = pd.merge(good, good_first, how='outer', indicator=True).query(\"_merge == 'left_only'\").drop(columns=['_merge'])\n",
    "good_second = good_exceptfirst.drop_duplicates('자전거번호',keep='first')\n",
    "good_second.head()"
   ]
  },
  {
   "cell_type": "code",
   "execution_count": 201,
   "metadata": {
    "colab": {
     "base_uri": "https://localhost:8080/"
    },
    "id": "foqriBmDJL7L",
    "outputId": "947fe488-333e-4ec8-aa5a-f177c16431ca"
   },
   "outputs": [
    {
     "data": {
      "text/plain": [
       "(2400, 15)"
      ]
     },
     "execution_count": 201,
     "metadata": {},
     "output_type": "execute_result"
    }
   ],
   "source": [
    "good_firstAndSecond = pd.concat([good_first,good_second])\n",
    "good_firstAndSecond.shape#3686"
   ]
  },
  {
   "cell_type": "code",
   "execution_count": 202,
   "metadata": {
    "colab": {
     "base_uri": "https://localhost:8080/"
    },
    "id": "Z7X4hRzzKBkO",
    "outputId": "8adffea3-010a-44c6-d520-03af9937c977"
   },
   "outputs": [
    {
     "data": {
      "text/plain": [
       "(2084, 15)"
      ]
     },
     "execution_count": 202,
     "metadata": {},
     "output_type": "execute_result"
    }
   ],
   "source": [
    "good_firstAndSecond = good_firstAndSecond[good_firstAndSecond['대여 대여소명']!= good_firstAndSecond['반납대여소명']]#같은곳에서 반납된것 드랍\n",
    "good_firstAndSecond = good_firstAndSecond[good_firstAndSecond['이용시간(분)']>2]#2분미만으로 탄 것 드랍 (이미 고장난 자전거를 대여했다가 반납한것으로 생각함)\n",
    "\n",
    "good_firstAndSecond.shape#3686"
   ]
  },
  {
   "cell_type": "code",
   "execution_count": 203,
   "metadata": {
    "id": "07U_SqsMKKr2"
   },
   "outputs": [],
   "source": [
    "# good_firstAndSecond.to_csv(\"good.csv\")"
   ]
  },
  {
   "cell_type": "code",
   "execution_count": 204,
   "metadata": {
    "colab": {
     "base_uri": "https://localhost:8080/"
    },
    "id": "-kQgXdswKajd",
    "outputId": "dc965660-9f33-448f-ede6-3b073cf0d078"
   },
   "outputs": [],
   "source": [
    "good_firstAndSecond['고장']=0 #라벨링\n",
    "log2 = log2.sample(n=len(good_firstAndSecond))\n",
    "log2['고장']=1\n",
    "output = pd.concat([log2,good_firstAndSecond])\n",
    "output.to_csv(\"training_data7.csv\", encoding='cp949')"
   ]
  },
  {
   "cell_type": "code",
   "execution_count": 205,
   "metadata": {
    "colab": {
     "base_uri": "https://localhost:8080/"
    },
    "id": "fzg7RGoaKlQ1",
    "outputId": "6b37271c-ec0d-4044-a2f9-492bb202fa4a"
   },
   "outputs": [
    {
     "data": {
      "text/plain": [
       "(4168, 16)"
      ]
     },
     "execution_count": 205,
     "metadata": {},
     "output_type": "execute_result"
    }
   ],
   "source": [
    "output.shape#(7735,19)"
   ]
  },
  {
   "cell_type": "code",
   "execution_count": 3,
   "metadata": {
    "id": "9YcRtPXDME-U"
   },
   "outputs": [],
   "source": [
    "t7 = pd.read_csv(\"training_data7.csv\")\n",
    "t8 = pd.read_csv(\"training_data8.csv\")\n",
    "t9 = pd.read_csv(\"training_data9.csv\")\n",
    "t10 = pd.read_csv(\"training_data10.csv\")\n",
    "t11 = pd.read_csv(\"training_data11.csv\")\n",
    "t12 = pd.read_csv(\"training_data12.csv\")"
   ]
  },
  {
   "cell_type": "code",
   "execution_count": 11,
   "metadata": {},
   "outputs": [
    {
     "name": "stdout",
     "output_type": "stream",
     "text": [
      "          자전거번호                대여일시  대여 대여소번호         대여 대여소명  \\\n",
      "1921  SPB-50867 2022-07-01 00:15:00       864  순천향대학병원(한남오거리)   \n",
      "1403  SPB-40789 2022-07-01 00:23:00      5752   풍납백제문화공원 옆 인근   \n",
      "1399  SPB-40134 2022-07-01 00:32:00      1339    삼성전자서비스 성북센터   \n",
      "306   SPB-50932 2022-07-01 00:59:00       670    삼육서울병원 버스정류장   \n",
      "481   SPB-55153 2022-07-01 01:00:00      1661         당현천근린공원   \n",
      "\n",
      "                 반납일시  반납대여소번호             반납대여소명  이용시간(분)  이용거리(M)    생년 성별  \\\n",
      "1921  2022-07-01 0:32     4607  국립중앙박물관 -용산가족공원 앞       16  3280.00  1992  M   \n",
      "1403  2022-07-01 0:31     1009     천호역4번출구(현대백화점)        7  1196.21  2001  M   \n",
      "1399  2022-07-01 0:57     1306         한성대입구역2번출구       25  3409.46  1998  F   \n",
      "306   2022-07-01 1:09      628           휘봉고등학교 앞        9  1103.01  1997  M   \n",
      "481   2022-07-01 1:04     1656       중앙하이츠 아파트 입구        4   852.32  1997  M   \n",
      "\n",
      "     이용자종류    대여요일              등록일시 고장구분  고장  \n",
      "1921   내국인  Friday  2022-07-01 19:53   안장   1  \n",
      "1403   내국인  Friday   2022-07-01 1:08   안장   1  \n",
      "1399   내국인  Friday   2022-07-01 0:57   페달   1  \n",
      "306    내국인  Friday   2022-07-01 1:09   체인   1  \n",
      "481    내국인  Friday   2022-07-01 8:03  기타    1  \n"
     ]
    }
   ],
   "source": [
    "t = pd.concat([t7, t8, t9, t10, t11, t12])\n",
    "t = t.drop(t.columns[0], axis=1)\n",
    "t['대여일시'] = pd.to_datetime(t['대여일시'])\n",
    "t = t.sort_values('대여일시')\n",
    "print(t.head())\n",
    "\n",
    "t.to_csv(\"training_data7~12.csv\", encoding='cp949', index=False)"
   ]
  },
  {
   "cell_type": "code",
   "execution_count": 8,
   "metadata": {},
   "outputs": [
    {
     "data": {
      "text/plain": [
       "26414"
      ]
     },
     "execution_count": 8,
     "metadata": {},
     "output_type": "execute_result"
    }
   ],
   "source": [
    "len(t)"
   ]
  },
  {
   "cell_type": "code",
   "execution_count": null,
   "metadata": {},
   "outputs": [],
   "source": []
  }
 ],
 "metadata": {
  "colab": {
   "collapsed_sections": [
    "ldZe-rEeesps"
   ],
   "provenance": []
  },
  "kernelspec": {
   "display_name": "Python 3 (ipykernel)",
   "language": "python",
   "name": "python3"
  },
  "language_info": {
   "codemirror_mode": {
    "name": "ipython",
    "version": 3
   },
   "file_extension": ".py",
   "mimetype": "text/x-python",
   "name": "python",
   "nbconvert_exporter": "python",
   "pygments_lexer": "ipython3",
   "version": "3.9.12"
  }
 },
 "nbformat": 4,
 "nbformat_minor": 1
}
