{
 "cells": [
  {
   "cell_type": "markdown",
   "id": "a25c3d3f",
   "metadata": {},
   "source": [
    "# 인기대여소(대여소별 이용횟수)와 고장의 연관성 분석"
   ]
  },
  {
   "cell_type": "code",
   "execution_count": 41,
   "id": "3bf3ae99",
   "metadata": {},
   "outputs": [],
   "source": [
    "import pandas as pd\n",
    "import matplotlib\n",
    "import matplotlib.pyplot as plt\n",
    "matplotlib.rcParams['font.family'] ='Malgun Gothic'\n",
    "matplotlib.rcParams['axes.unicode_minus'] = False"
   ]
  },
  {
   "cell_type": "markdown",
   "id": "6c68aae5",
   "metadata": {},
   "source": [
    "## 데이터 로드 및 전처리"
   ]
  },
  {
   "cell_type": "code",
   "execution_count": 42,
   "id": "a01a2c3c",
   "metadata": {},
   "outputs": [],
   "source": [
    "df_rent = pd.read_csv(\"training_data7~12.csv\")\n",
    "df_office = pd.read_csv(\"서울특별시 공공자전거 대여소별 이용정보(월별)_22.7-22.12.csv\")"
   ]
  },
  {
   "cell_type": "code",
   "execution_count": 43,
   "id": "ae85d12e",
   "metadata": {},
   "outputs": [
    {
     "data": {
      "text/html": [
       "<div>\n",
       "<style scoped>\n",
       "    .dataframe tbody tr th:only-of-type {\n",
       "        vertical-align: middle;\n",
       "    }\n",
       "\n",
       "    .dataframe tbody tr th {\n",
       "        vertical-align: top;\n",
       "    }\n",
       "\n",
       "    .dataframe thead th {\n",
       "        text-align: right;\n",
       "    }\n",
       "</style>\n",
       "<table border=\"1\" class=\"dataframe\">\n",
       "  <thead>\n",
       "    <tr style=\"text-align: right;\">\n",
       "      <th></th>\n",
       "      <th>자치구</th>\n",
       "      <th>대여소명</th>\n",
       "      <th>기준년월</th>\n",
       "      <th>대여건수</th>\n",
       "      <th>반납건수</th>\n",
       "    </tr>\n",
       "  </thead>\n",
       "  <tbody>\n",
       "    <tr>\n",
       "      <th>0</th>\n",
       "      <td>강남구</td>\n",
       "      <td>2301</td>\n",
       "      <td>2022-07-01</td>\n",
       "      <td>2170</td>\n",
       "      <td>2183</td>\n",
       "    </tr>\n",
       "    <tr>\n",
       "      <th>1</th>\n",
       "      <td>강남구</td>\n",
       "      <td>2302</td>\n",
       "      <td>2022-07-01</td>\n",
       "      <td>1140</td>\n",
       "      <td>1143</td>\n",
       "    </tr>\n",
       "    <tr>\n",
       "      <th>2</th>\n",
       "      <td>강남구</td>\n",
       "      <td>2303</td>\n",
       "      <td>2022-07-01</td>\n",
       "      <td>1329</td>\n",
       "      <td>1196</td>\n",
       "    </tr>\n",
       "    <tr>\n",
       "      <th>3</th>\n",
       "      <td>강남구</td>\n",
       "      <td>2304</td>\n",
       "      <td>2022-07-01</td>\n",
       "      <td>288</td>\n",
       "      <td>104</td>\n",
       "    </tr>\n",
       "    <tr>\n",
       "      <th>4</th>\n",
       "      <td>강남구</td>\n",
       "      <td>2305</td>\n",
       "      <td>2022-07-01</td>\n",
       "      <td>334</td>\n",
       "      <td>342</td>\n",
       "    </tr>\n",
       "  </tbody>\n",
       "</table>\n",
       "</div>"
      ],
      "text/plain": [
       "   자치구  대여소명       기준년월  대여건수  반납건수\n",
       "0  강남구  2301 2022-07-01  2170  2183\n",
       "1  강남구  2302 2022-07-01  1140  1143\n",
       "2  강남구  2303 2022-07-01  1329  1196\n",
       "3  강남구  2304 2022-07-01   288   104\n",
       "4  강남구  2305 2022-07-01   334   342"
      ]
     },
     "execution_count": 43,
     "metadata": {},
     "output_type": "execute_result"
    }
   ],
   "source": [
    "import re\n",
    "\n",
    "# 기준년월 열을 datetime 타입으로 변환\n",
    "df_office['기준년월'] = pd.to_datetime(df_office['기준년월'], format=\"%Y%m\")\n",
    "\n",
    "# 대여소명에서 숫자만 추출하여 int 타입으로 변환\n",
    "df_office['대여소명'] = df_office['대여소명'].str.extract('(\\d+)').astype(int)\n",
    "\n",
    "# 숫자 이외의 문자 제거하고 int 타입으로 변환하는 함수\n",
    "def remove_non_digits_and_convert_to_int(value):\n",
    "    cleaned_value = re.sub('[^0-9]', '', value)\n",
    "    return int(cleaned_value) if cleaned_value else 0\n",
    "\n",
    "# 대여건수와 반납건수에서 숫자 이외의 문자 제거 및 int 타입으로 변환\n",
    "df_office['대여건수'] = df_office['대여건수'].apply(remove_non_digits_and_convert_to_int)\n",
    "df_office['반납건수'] = df_office['반납건수'].apply(remove_non_digits_and_convert_to_int)\n",
    "df_office.head()"
   ]
  },
  {
   "cell_type": "markdown",
   "id": "fbce99fe",
   "metadata": {},
   "source": [
    "## 인기대여소, 비인기대여소 추출\n",
    "\n",
    "- **`인기대여소`** : 사람들의 이용이 많은 상위 100개 대여소\n",
    "\n",
    "- **`비인기대여소`** : 사람들의 이용이 적은 하위 1000개 대여소\n",
    "\n",
    "위와 같은 비율로 해야 데이터 수가 비슷합니다.\n",
    "\n",
    "대여와 반납이 모두 인기대여소(비인기대여소) 에 속한 대여이력을 추출하였습니다."
   ]
  },
  {
   "cell_type": "code",
   "execution_count": 44,
   "id": "5b759d65",
   "metadata": {},
   "outputs": [
    {
     "name": "stdout",
     "output_type": "stream",
     "text": [
      "총 대여소 수 : 2735\n"
     ]
    },
    {
     "data": {
      "text/html": [
       "<div>\n",
       "<style scoped>\n",
       "    .dataframe tbody tr th:only-of-type {\n",
       "        vertical-align: middle;\n",
       "    }\n",
       "\n",
       "    .dataframe tbody tr th {\n",
       "        vertical-align: top;\n",
       "    }\n",
       "\n",
       "    .dataframe thead th {\n",
       "        text-align: right;\n",
       "    }\n",
       "</style>\n",
       "<table border=\"1\" class=\"dataframe\">\n",
       "  <thead>\n",
       "    <tr style=\"text-align: right;\">\n",
       "      <th></th>\n",
       "      <th>대여소명</th>\n",
       "      <th>대여건수</th>\n",
       "      <th>반납건수</th>\n",
       "      <th>이용건수</th>\n",
       "    </tr>\n",
       "  </thead>\n",
       "  <tbody>\n",
       "    <tr>\n",
       "      <th>0</th>\n",
       "      <td>2715</td>\n",
       "      <td>91592</td>\n",
       "      <td>91343</td>\n",
       "      <td>182935</td>\n",
       "    </tr>\n",
       "    <tr>\n",
       "      <th>1</th>\n",
       "      <td>502</td>\n",
       "      <td>70875</td>\n",
       "      <td>76086</td>\n",
       "      <td>146961</td>\n",
       "    </tr>\n",
       "    <tr>\n",
       "      <th>2</th>\n",
       "      <td>4217</td>\n",
       "      <td>69091</td>\n",
       "      <td>73901</td>\n",
       "      <td>142992</td>\n",
       "    </tr>\n",
       "    <tr>\n",
       "      <th>3</th>\n",
       "      <td>207</td>\n",
       "      <td>64875</td>\n",
       "      <td>60514</td>\n",
       "      <td>125389</td>\n",
       "    </tr>\n",
       "    <tr>\n",
       "      <th>4</th>\n",
       "      <td>1210</td>\n",
       "      <td>62099</td>\n",
       "      <td>61961</td>\n",
       "      <td>124060</td>\n",
       "    </tr>\n",
       "  </tbody>\n",
       "</table>\n",
       "</div>"
      ],
      "text/plain": [
       "   대여소명   대여건수   반납건수    이용건수\n",
       "0  2715  91592  91343  182935\n",
       "1   502  70875  76086  146961\n",
       "2  4217  69091  73901  142992\n",
       "3   207  64875  60514  125389\n",
       "4  1210  62099  61961  124060"
      ]
     },
     "execution_count": 44,
     "metadata": {},
     "output_type": "execute_result"
    }
   ],
   "source": [
    "# 대여소명으로 묶어 대여건수와 반납건수 합산\n",
    "df_grouped = df_office.groupby('대여소명').agg({'대여건수': 'sum', '반납건수': 'sum'}).reset_index()\n",
    "# '이용건수' 열 추가\n",
    "df_grouped['이용건수'] = df_grouped['대여건수'] + df_grouped['반납건수']\n",
    "df_grouped = df_grouped.sort_values(by='이용건수', ascending=False)\n",
    "df_grouped = df_grouped.reset_index(drop=True)  # 인덱스를 0부터 순서대로 다시 설정\n",
    "print(\"총 대여소 수 :\", len(df_grouped))\n",
    "\n",
    "popular = df_grouped.head(100) # 인기대여소 상위 100개\n",
    "unpopular = df_grouped.tail(1000) # 인기없는 대여소 하위 1000개\n",
    "popular.head()"
   ]
  },
  {
   "cell_type": "code",
   "execution_count": 49,
   "id": "b817541c",
   "metadata": {},
   "outputs": [
    {
     "data": {
      "image/png": "[encoded data removed]",
      "text/plain": [
       "<Figure size 1000x600 with 1 Axes>"
      ]
     },
     "metadata": {},
     "output_type": "display_data"
    }
   ],
   "source": [
    "import matplotlib.pyplot as plt\n",
    "\n",
    "# 이용건수에 대한 바 그래프 그리기\n",
    "plt.figure(figsize=(10, 6))\n",
    "plt.bar(df_grouped.index, df_grouped['이용건수'])  # 대여소 인덱스와 이용건수 데이터를 사용하여 바 그래프를 그립니다.\n",
    "plt.xlabel('이용건수로 정렬된 대여소')\n",
    "plt.ylabel('이용건수')\n",
    "plt.title('대여소별 이용건수 분포')\n",
    "\n",
    "plt.show()"
   ]
  },
  {
   "cell_type": "code",
   "execution_count": 46,
   "id": "71a66df0",
   "metadata": {},
   "outputs": [
    {
     "name": "stdout",
     "output_type": "stream",
     "text": [
      "대여와 반납이 인기 상위 100개 대여소에서 이루어진 대여이력 개수 : 739\n",
      "고장 414개,  정상 325개\n"
     ]
    }
   ],
   "source": [
    "popular_stations = popular['대여소명'].tolist()\n",
    "# df_rent에서 대여와 반납이 popular_stations에 속한 행만 추출\n",
    "popular_rent = df_rent[df_rent['대여 대여소번호'].isin(popular_stations) & df_rent['반납대여소번호'].isin(popular_stations)]\n",
    "\n",
    "# 결과 출력\n",
    "print(\"대여와 반납이 인기 상위 100개 대여소에서 이루어진 대여이력 개수 :\",len(popular_rent))\n",
    "\n",
    "broken = popular_rent[popular_rent['고장'] == 1]\n",
    "normal = popular_rent[popular_rent['고장'] == 0]\n",
    "\n",
    "print(f\"고장 {len(broken)}개,  정상 {len(normal)}개\")"
   ]
  },
  {
   "cell_type": "code",
   "execution_count": 47,
   "id": "61955888",
   "metadata": {},
   "outputs": [
    {
     "name": "stdout",
     "output_type": "stream",
     "text": [
      "대여와 반납이 인기 하위 1000개 대여소에서 이루어진 대여이력 개수 : 831\n",
      "고장 358개,  정상 473개\n"
     ]
    }
   ],
   "source": [
    "unpopular_stations = unpopular['대여소명'].tolist()\n",
    "# df_rent에서 대여와 반납이 unpopular_stations에 속한 행만 추출\n",
    "unpopular_rent = df_rent[df_rent['대여 대여소번호'].isin(unpopular_stations) & df_rent['반납대여소번호'].isin(unpopular_stations)]\n",
    "\n",
    "print(\"대여와 반납이 인기 하위 1000개 대여소에서 이루어진 대여이력 개수 :\", len(unpopular_rent))\n",
    "\n",
    "broken2 = unpopular_rent[unpopular_rent['고장'] == 1]\n",
    "normal2 = unpopular_rent[unpopular_rent['고장'] == 0]\n",
    "\n",
    "print(f\"고장 {len(broken2)}개,  정상 {len(normal2)}개\")"
   ]
  },
  {
   "cell_type": "code",
   "execution_count": 48,
   "id": "8345acd5",
   "metadata": {},
   "outputs": [
    {
     "data": {
      "image/png": "[encoded data removed]",
      "text/plain": [
       "<Figure size 640x480 with 2 Axes>"
      ]
     },
     "metadata": {},
     "output_type": "display_data"
    }
   ],
   "source": [
    "labels = ['고장', '정상']\n",
    "colors = ['orange', 'green']\n",
    "\n",
    "fig, axs = plt.subplots(1, 2)\n",
    "\n",
    "axs[0].pie([len(broken), len(normal)], labels=labels, colors=colors, autopct='%1.1f%%')\n",
    "axs[0].set_title('인기 상위 100개 대여소')\n",
    "\n",
    "axs[1].pie([len(broken2), len(normal2)], labels=labels, colors=colors, autopct='%1.1f%%')\n",
    "axs[1].set_title('인기 하위 1000개 대여소')\n",
    "\n",
    "plt.subplots_adjust(wspace=1)\n",
    "\n",
    "plt.show()"
   ]
  },
  {
   "cell_type": "markdown",
   "id": "292c3b1f",
   "metadata": {},
   "source": [
    "## 분석결과 및 해석\n",
    "\n",
    "**인기대여소에서 대여 반납이 이루어진 데이터들은 고장이 정상보다 많았고, 반대로 비인기대여소는 정상이 훨씬 많았습니다.**\n",
    "\n",
    "아무래도 인기 대여소 주변은 자전거가 많고 혼잡하여 고장이 더 잦다고 추측해 볼 수 있겠습니다.\n",
    "\n",
    "하지만 이전에 했던 대여소명과 고장의 연관성 분석에서 '광장', '광화문'등 사람들이 많아 혼잡하다고 여겨지는 곳 주변은 고장이 오히려 적었습니다.\n",
    "\n",
    "**'사람'** 이 많은 장소와 **'자전거'** 가 많은 장소는 뭔가 다른 점이 있어보입니다."
   ]
  }
 ],
 "metadata": {
  "kernelspec": {
   "display_name": "Python [conda env:2023-DS-B] *",
   "language": "python",
   "name": "conda-env-2023-DS-B-py"
  },
  "language_info": {
   "codemirror_mode": {
    "name": "ipython",
    "version": 3
   },
   "file_extension": ".py",
   "mimetype": "text/x-python",
   "name": "python",
   "nbconvert_exporter": "python",
   "pygments_lexer": "ipython3",
   "version": "3.10.9"
  }
 },
 "nbformat": 4,
 "nbformat_minor": 5
}
