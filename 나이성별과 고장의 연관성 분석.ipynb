{
 "cells": [
  {
   "cell_type": "markdown",
   "id": "f9ca2145",
   "metadata": {},
   "source": [
    "# 나이성별과 고장의 연관성 분석"
   ]
  },
  {
   "cell_type": "code",
   "execution_count": 76,
   "id": "3d31a9b3",
   "metadata": {},
   "outputs": [],
   "source": [
    "import pandas as pd\n",
    "import numpy as np\n",
    "import matplotlib\n",
    "import matplotlib.pyplot as plt\n",
    "matplotlib.rcParams['axes.unicode_minus'] = False"
   ]
  },
  {
   "cell_type": "code",
   "execution_count": 77,
   "id": "7290cc3f",
   "metadata": {},
   "outputs": [],
   "source": [
    "df = pd.read_csv(\"training_data7~12.csv\")"
   ]
  },
  {
   "cell_type": "markdown",
   "id": "6766030e",
   "metadata": {},
   "source": [
    "## 전처리\n",
    "\n",
    "1.성별데이터를 한번에 알아볼 수 있게 'M'은 '남자', 'F'는 '여자'로 변경했습니다.\n",
    "\n",
    "2.0년생이나 2099년생같은 쓰레기값들을 삭제했습니다.\n",
    "\n",
    "3.고장데이터와 정상데이터의 개수를 맞췄습니다."
   ]
  },
  {
   "cell_type": "code",
   "execution_count": 78,
   "id": "6291dd24",
   "metadata": {},
   "outputs": [
    {
     "name": "stdout",
     "output_type": "stream",
     "text": [
      "1    13185\n",
      "0    13176\n",
      "Name: 고장, dtype: int64\n",
      "1    13176\n",
      "0    13176\n",
      "Name: 고장, dtype: int64\n"
     ]
    }
   ],
   "source": [
    "df['성별'] = df['성별'].map({'M': '남자', 'F': '여자'})\n",
    "df = df[(1902 <= df['생년']) & (df['생년'] <= 2022)]\n",
    "print(df['고장'].value_counts())\n",
    "\n",
    "faulty_indices = df[df['고장'] == 1].index\n",
    "random_indices = np.random.choice(faulty_indices, size=9, replace=False)\n",
    "df = df.drop(random_indices)\n",
    "print(df['고장'].value_counts())"
   ]
  },
  {
   "cell_type": "code",
   "execution_count": 79,
   "id": "783ceb1c",
   "metadata": {},
   "outputs": [
    {
     "data": {
      "text/html": [
       "<div>\n",
       "<style scoped>\n",
       "    .dataframe tbody tr th:only-of-type {\n",
       "        vertical-align: middle;\n",
       "    }\n",
       "\n",
       "    .dataframe tbody tr th {\n",
       "        vertical-align: top;\n",
       "    }\n",
       "\n",
       "    .dataframe thead th {\n",
       "        text-align: right;\n",
       "    }\n",
       "</style>\n",
       "<table border=\"1\" class=\"dataframe\">\n",
       "  <thead>\n",
       "    <tr style=\"text-align: right;\">\n",
       "      <th></th>\n",
       "      <th>자전거번호</th>\n",
       "      <th>대여일시</th>\n",
       "      <th>대여 대여소번호</th>\n",
       "      <th>대여 대여소명</th>\n",
       "      <th>반납일시</th>\n",
       "      <th>반납대여소번호</th>\n",
       "      <th>반납대여소명</th>\n",
       "      <th>이용시간(분)</th>\n",
       "      <th>이용거리(M)</th>\n",
       "      <th>생년</th>\n",
       "      <th>성별</th>\n",
       "      <th>이용자종류</th>\n",
       "      <th>대여요일</th>\n",
       "      <th>등록일시</th>\n",
       "      <th>고장구분</th>\n",
       "      <th>고장</th>\n",
       "    </tr>\n",
       "  </thead>\n",
       "  <tbody>\n",
       "    <tr>\n",
       "      <th>87</th>\n",
       "      <td>SPB-41322</td>\n",
       "      <td>2022-07-01 9:30</td>\n",
       "      <td>770</td>\n",
       "      <td>목동역5번출구 교통정보센터 앞</td>\n",
       "      <td>2022-07-01 9:34</td>\n",
       "      <td>791</td>\n",
       "      <td>현대하이페리온</td>\n",
       "      <td>4</td>\n",
       "      <td>406.58</td>\n",
       "      <td>1993</td>\n",
       "      <td>여자</td>\n",
       "      <td>내국인</td>\n",
       "      <td>Friday</td>\n",
       "      <td>2022-07-01 13:13</td>\n",
       "      <td>기타</td>\n",
       "      <td>1</td>\n",
       "    </tr>\n",
       "    <tr>\n",
       "      <th>107</th>\n",
       "      <td>SPB-51484</td>\n",
       "      <td>2022-07-01 11:15</td>\n",
       "      <td>769</td>\n",
       "      <td>CBS방송국 앞</td>\n",
       "      <td>2022-07-01 11:22</td>\n",
       "      <td>747</td>\n",
       "      <td>목동3단지 상가</td>\n",
       "      <td>6</td>\n",
       "      <td>817.93</td>\n",
       "      <td>1993</td>\n",
       "      <td>여자</td>\n",
       "      <td>내국인</td>\n",
       "      <td>Friday</td>\n",
       "      <td>2022-07-01 11:24</td>\n",
       "      <td>기타</td>\n",
       "      <td>1</td>\n",
       "    </tr>\n",
       "    <tr>\n",
       "      <th>170</th>\n",
       "      <td>SPB-50532</td>\n",
       "      <td>2022-07-01 15:39</td>\n",
       "      <td>2012</td>\n",
       "      <td>대림사거리(동작상떼빌아파트)</td>\n",
       "      <td>2022-07-01 15:43</td>\n",
       "      <td>2177</td>\n",
       "      <td>신대방역 2번 출구</td>\n",
       "      <td>3</td>\n",
       "      <td>633.67</td>\n",
       "      <td>1993</td>\n",
       "      <td>여자</td>\n",
       "      <td>내국인</td>\n",
       "      <td>Friday</td>\n",
       "      <td>2022-07-01 18:25</td>\n",
       "      <td>타이어</td>\n",
       "      <td>1</td>\n",
       "    </tr>\n",
       "    <tr>\n",
       "      <th>199</th>\n",
       "      <td>SPB-80637</td>\n",
       "      <td>2022-07-01 17:13</td>\n",
       "      <td>3555</td>\n",
       "      <td>양지사거리(센트라스APT 115동앞)</td>\n",
       "      <td>2022-07-01 17:17</td>\n",
       "      <td>557</td>\n",
       "      <td>도선동 주민센터 앞</td>\n",
       "      <td>4</td>\n",
       "      <td>350.00</td>\n",
       "      <td>1993</td>\n",
       "      <td>여자</td>\n",
       "      <td>내국인</td>\n",
       "      <td>Friday</td>\n",
       "      <td>2022-07-01 17:19</td>\n",
       "      <td>기타</td>\n",
       "      <td>1</td>\n",
       "    </tr>\n",
       "    <tr>\n",
       "      <th>331</th>\n",
       "      <td>SPB-59061</td>\n",
       "      <td>2022-07-01 20:30</td>\n",
       "      <td>287</td>\n",
       "      <td>영등포전화국사거리 (서강어린이공원)</td>\n",
       "      <td>2022-07-01 21:04</td>\n",
       "      <td>5059</td>\n",
       "      <td>화곡2동주민센터</td>\n",
       "      <td>33</td>\n",
       "      <td>5270.00</td>\n",
       "      <td>1993</td>\n",
       "      <td>여자</td>\n",
       "      <td>내국인</td>\n",
       "      <td>Friday</td>\n",
       "      <td>2022-07-01 19:19</td>\n",
       "      <td>단말기</td>\n",
       "      <td>0</td>\n",
       "    </tr>\n",
       "  </tbody>\n",
       "</table>\n",
       "</div>"
      ],
      "text/plain": [
       "         자전거번호              대여일시  대여 대여소번호               대여 대여소명  \\\n",
       "87   SPB-41322   2022-07-01 9:30       770      목동역5번출구 교통정보센터 앞   \n",
       "107  SPB-51484  2022-07-01 11:15       769              CBS방송국 앞   \n",
       "170  SPB-50532  2022-07-01 15:39      2012       대림사거리(동작상떼빌아파트)   \n",
       "199  SPB-80637  2022-07-01 17:13      3555  양지사거리(센트라스APT 115동앞)   \n",
       "331  SPB-59061  2022-07-01 20:30       287   영등포전화국사거리 (서강어린이공원)   \n",
       "\n",
       "                 반납일시  반납대여소번호      반납대여소명  이용시간(분)  이용거리(M)    생년  성별 이용자종류  \\\n",
       "87    2022-07-01 9:34      791     현대하이페리온        4   406.58  1993  여자   내국인   \n",
       "107  2022-07-01 11:22      747    목동3단지 상가        6   817.93  1993  여자   내국인   \n",
       "170  2022-07-01 15:43     2177  신대방역 2번 출구        3   633.67  1993  여자   내국인   \n",
       "199  2022-07-01 17:17      557  도선동 주민센터 앞        4   350.00  1993  여자   내국인   \n",
       "331  2022-07-01 21:04     5059    화곡2동주민센터       33  5270.00  1993  여자   내국인   \n",
       "\n",
       "       대여요일              등록일시  고장구분  고장  \n",
       "87   Friday  2022-07-01 13:13   기타    1  \n",
       "107  Friday  2022-07-01 11:24   기타    1  \n",
       "170  Friday  2022-07-01 18:25  타이어    1  \n",
       "199  Friday  2022-07-01 17:19   기타    1  \n",
       "331  Friday  2022-07-01 19:19   단말기   0  "
      ]
     },
     "execution_count": 79,
     "metadata": {},
     "output_type": "execute_result"
    }
   ],
   "source": [
    "df2 = df[(df['성별'] == '여자') & (df['생년'] == 1993)]\n",
    "df2.head()"
   ]
  },
  {
   "cell_type": "markdown",
   "id": "2757ba54",
   "metadata": {},
   "source": [
    "`성별과연령대`, `연령대` 열을 추가했습니다."
   ]
  },
  {
   "cell_type": "code",
   "execution_count": 80,
   "id": "648e2e3d",
   "metadata": {},
   "outputs": [
    {
     "data": {
      "text/html": [
       "<div>\n",
       "<style scoped>\n",
       "    .dataframe tbody tr th:only-of-type {\n",
       "        vertical-align: middle;\n",
       "    }\n",
       "\n",
       "    .dataframe tbody tr th {\n",
       "        vertical-align: top;\n",
       "    }\n",
       "\n",
       "    .dataframe thead th {\n",
       "        text-align: right;\n",
       "    }\n",
       "</style>\n",
       "<table border=\"1\" class=\"dataframe\">\n",
       "  <thead>\n",
       "    <tr style=\"text-align: right;\">\n",
       "      <th></th>\n",
       "      <th>자전거번호</th>\n",
       "      <th>대여일시</th>\n",
       "      <th>대여 대여소번호</th>\n",
       "      <th>대여 대여소명</th>\n",
       "      <th>반납일시</th>\n",
       "      <th>반납대여소번호</th>\n",
       "      <th>반납대여소명</th>\n",
       "      <th>이용시간(분)</th>\n",
       "      <th>이용거리(M)</th>\n",
       "      <th>생년</th>\n",
       "      <th>성별</th>\n",
       "      <th>이용자종류</th>\n",
       "      <th>대여요일</th>\n",
       "      <th>등록일시</th>\n",
       "      <th>고장구분</th>\n",
       "      <th>고장</th>\n",
       "      <th>연령대</th>\n",
       "      <th>성별과연령대</th>\n",
       "    </tr>\n",
       "  </thead>\n",
       "  <tbody>\n",
       "    <tr>\n",
       "      <th>0</th>\n",
       "      <td>SPB-50867</td>\n",
       "      <td>2022-07-01 0:15</td>\n",
       "      <td>864</td>\n",
       "      <td>순천향대학병원(한남오거리)</td>\n",
       "      <td>2022-07-01 0:32</td>\n",
       "      <td>4607</td>\n",
       "      <td>국립중앙박물관 -용산가족공원 앞</td>\n",
       "      <td>16</td>\n",
       "      <td>3280.00</td>\n",
       "      <td>1992</td>\n",
       "      <td>남자</td>\n",
       "      <td>내국인</td>\n",
       "      <td>Friday</td>\n",
       "      <td>2022-07-01 19:53</td>\n",
       "      <td>안장</td>\n",
       "      <td>1</td>\n",
       "      <td>30대</td>\n",
       "      <td>30대남자</td>\n",
       "    </tr>\n",
       "    <tr>\n",
       "      <th>1</th>\n",
       "      <td>SPB-40789</td>\n",
       "      <td>2022-07-01 0:23</td>\n",
       "      <td>5752</td>\n",
       "      <td>풍납백제문화공원 옆 인근</td>\n",
       "      <td>2022-07-01 0:31</td>\n",
       "      <td>1009</td>\n",
       "      <td>천호역4번출구(현대백화점)</td>\n",
       "      <td>7</td>\n",
       "      <td>1196.21</td>\n",
       "      <td>2001</td>\n",
       "      <td>남자</td>\n",
       "      <td>내국인</td>\n",
       "      <td>Friday</td>\n",
       "      <td>2022-07-01 1:08</td>\n",
       "      <td>안장</td>\n",
       "      <td>1</td>\n",
       "      <td>20대</td>\n",
       "      <td>20대남자</td>\n",
       "    </tr>\n",
       "    <tr>\n",
       "      <th>2</th>\n",
       "      <td>SPB-40134</td>\n",
       "      <td>2022-07-01 0:32</td>\n",
       "      <td>1339</td>\n",
       "      <td>삼성전자서비스 성북센터</td>\n",
       "      <td>2022-07-01 0:57</td>\n",
       "      <td>1306</td>\n",
       "      <td>한성대입구역2번출구</td>\n",
       "      <td>25</td>\n",
       "      <td>3409.46</td>\n",
       "      <td>1998</td>\n",
       "      <td>여자</td>\n",
       "      <td>내국인</td>\n",
       "      <td>Friday</td>\n",
       "      <td>2022-07-01 0:57</td>\n",
       "      <td>페달</td>\n",
       "      <td>1</td>\n",
       "      <td>20대</td>\n",
       "      <td>20대여자</td>\n",
       "    </tr>\n",
       "    <tr>\n",
       "      <th>3</th>\n",
       "      <td>SPB-50932</td>\n",
       "      <td>2022-07-01 0:59</td>\n",
       "      <td>670</td>\n",
       "      <td>삼육서울병원 버스정류장</td>\n",
       "      <td>2022-07-01 1:09</td>\n",
       "      <td>628</td>\n",
       "      <td>휘봉고등학교 앞</td>\n",
       "      <td>9</td>\n",
       "      <td>1103.01</td>\n",
       "      <td>1997</td>\n",
       "      <td>남자</td>\n",
       "      <td>내국인</td>\n",
       "      <td>Friday</td>\n",
       "      <td>2022-07-01 1:09</td>\n",
       "      <td>체인</td>\n",
       "      <td>1</td>\n",
       "      <td>20대</td>\n",
       "      <td>20대남자</td>\n",
       "    </tr>\n",
       "    <tr>\n",
       "      <th>4</th>\n",
       "      <td>SPB-55153</td>\n",
       "      <td>2022-07-01 1:00</td>\n",
       "      <td>1661</td>\n",
       "      <td>당현천근린공원</td>\n",
       "      <td>2022-07-01 1:04</td>\n",
       "      <td>1656</td>\n",
       "      <td>중앙하이츠 아파트 입구</td>\n",
       "      <td>4</td>\n",
       "      <td>852.32</td>\n",
       "      <td>1997</td>\n",
       "      <td>남자</td>\n",
       "      <td>내국인</td>\n",
       "      <td>Friday</td>\n",
       "      <td>2022-07-01 8:03</td>\n",
       "      <td>기타</td>\n",
       "      <td>1</td>\n",
       "      <td>20대</td>\n",
       "      <td>20대남자</td>\n",
       "    </tr>\n",
       "  </tbody>\n",
       "</table>\n",
       "</div>"
      ],
      "text/plain": [
       "       자전거번호             대여일시  대여 대여소번호         대여 대여소명             반납일시  \\\n",
       "0  SPB-50867  2022-07-01 0:15       864  순천향대학병원(한남오거리)  2022-07-01 0:32   \n",
       "1  SPB-40789  2022-07-01 0:23      5752   풍납백제문화공원 옆 인근  2022-07-01 0:31   \n",
       "2  SPB-40134  2022-07-01 0:32      1339    삼성전자서비스 성북센터  2022-07-01 0:57   \n",
       "3  SPB-50932  2022-07-01 0:59       670    삼육서울병원 버스정류장  2022-07-01 1:09   \n",
       "4  SPB-55153  2022-07-01 1:00      1661         당현천근린공원  2022-07-01 1:04   \n",
       "\n",
       "   반납대여소번호             반납대여소명  이용시간(분)  이용거리(M)    생년  성별 이용자종류    대여요일  \\\n",
       "0     4607  국립중앙박물관 -용산가족공원 앞       16  3280.00  1992  남자   내국인  Friday   \n",
       "1     1009     천호역4번출구(현대백화점)        7  1196.21  2001  남자   내국인  Friday   \n",
       "2     1306         한성대입구역2번출구       25  3409.46  1998  여자   내국인  Friday   \n",
       "3      628           휘봉고등학교 앞        9  1103.01  1997  남자   내국인  Friday   \n",
       "4     1656       중앙하이츠 아파트 입구        4   852.32  1997  남자   내국인  Friday   \n",
       "\n",
       "               등록일시 고장구분  고장  연령대 성별과연령대  \n",
       "0  2022-07-01 19:53   안장   1  30대  30대남자  \n",
       "1   2022-07-01 1:08   안장   1  20대  20대남자  \n",
       "2   2022-07-01 0:57   페달   1  20대  20대여자  \n",
       "3   2022-07-01 1:09   체인   1  20대  20대남자  \n",
       "4   2022-07-01 8:03  기타    1  20대  20대남자  "
      ]
     },
     "execution_count": 80,
     "metadata": {},
     "output_type": "execute_result"
    }
   ],
   "source": [
    "df['연령대'] = df['생년'].apply(lambda x: f\"10대\" if 10 <= (2022 - x + 1) < 20 else f\"{((2022 - x + 1) // 10) * 10}대\")\n",
    "df.loc[(df['생년'] <= 1953), '연령대'] = '70대이상'\n",
    "df.loc[(df['생년'] >= 2004), '연령대'] = '10대이하'\n",
    "df['성별과연령대'] = df['연령대'] + df['성별']\n",
    "df.head()"
   ]
  },
  {
   "cell_type": "markdown",
   "id": "8d75ddf2",
   "metadata": {},
   "source": [
    "<br>\n",
    "\n",
    "## 상관관계 분석\n",
    "\n",
    "### 1. 성별&연령대와 고장의 연관성"
   ]
  },
  {
   "cell_type": "code",
   "execution_count": 81,
   "id": "93b2b5eb",
   "metadata": {},
   "outputs": [
    {
     "name": "stdout",
     "output_type": "stream",
     "text": [
      "고장          0     1\n",
      "성별과연령대             \n",
      "10대이하남자   696   557\n",
      "10대이하여자   261   195\n",
      "20대남자    2393  2110\n",
      "20대여자    1867  1892\n",
      "30대남자    2312  2394\n",
      "30대여자    1444  1673\n",
      "40대남자    1406  1613\n",
      "40대여자     756   834\n",
      "50대남자     947   900\n",
      "50대여자     516   506\n",
      "60대남자     385   327\n",
      "60대여자     119   107\n",
      "70대이상남자    52    46\n",
      "70대이상여자    22    22\n",
      "\n",
      "10대이하남자의 정상이 고장보다 24.96% 많습니다.\n",
      "10대이하여자의 정상이 고장보다 33.85% 많습니다.\n",
      "20대남자의 정상이 고장보다 13.41% 많습니다.\n",
      "고장! 20대여자의 고장이 정상보다 1.34% 많습니다.\n",
      "고장! 30대남자의 고장이 정상보다 3.55% 많습니다.\n",
      "고장! 30대여자의 고장이 정상보다 15.86% 많습니다.\n",
      "고장! 40대남자의 고장이 정상보다 14.72% 많습니다.\n",
      "고장! 40대여자의 고장이 정상보다 10.32% 많습니다.\n",
      "50대남자의 정상이 고장보다 5.22% 많습니다.\n",
      "50대여자의 정상이 고장보다 1.98% 많습니다.\n",
      "60대남자의 정상이 고장보다 17.74% 많습니다.\n",
      "60대여자의 정상이 고장보다 11.21% 많습니다.\n",
      "70대이상남자의 정상이 고장보다 13.04% 많습니다.\n",
      "고장! 70대이상여자의 고장이 정상보다 0.00% 많습니다.\n"
     ]
    },
    {
     "data": {
      "image/png": "[encoded data removed]",
      "text/plain": [
       "<Figure size 720x432 with 1 Axes>"
      ]
     },
     "metadata": {
      "needs_background": "light"
     },
     "output_type": "display_data"
    }
   ],
   "source": [
    "cross_table = pd.crosstab(df['성별과연령대'], df['고장'])\n",
    "print(cross_table)\n",
    "print()\n",
    "\n",
    "for i, row in cross_table.iterrows():\n",
    "    if row[0] <= row[1]:\n",
    "        print(\"고장! {}의 고장이 정상보다 {:.2f}% 많습니다.\".format(i, (row[1] - row[0]) / row[0] * 100))\n",
    "    else:\n",
    "        print(\"{}의 정상이 고장보다 {:.2f}% 많습니다.\".format(i, (row[0] - row[1]) / row[1] * 100))\n",
    "        \n",
    "fig, ax = plt.subplots(figsize=(10, 6))\n",
    "cross_table.plot(kind='bar', ax=ax)\n",
    "ax.set_xlabel('성별과연령대')\n",
    "ax.set_ylabel('고장')\n",
    "ax.set_title('고장에 따른 성별과 연령대 분포')\n",
    "ax.legend(['0', '1'])\n",
    "plt.xticks(rotation=45)\n",
    "plt.show()"
   ]
  },
  {
   "cell_type": "markdown",
   "id": "00154a2d",
   "metadata": {},
   "source": [
    "처음 딱 봤을떈 뭔가 선형적이고 일관적인 결과가 아닌 것 같습니다. 정리가 필요해보입니다.\n",
    "\n",
    "<br>\n",
    "\n",
    "고장과 정상일때 차이가 10% 이상 나는 유의미한 성별연령대를 보면,\n",
    "\n",
    "- **`정상적으로 타는사람이 많은 성별&연령대`** : 10대 남자, 10대여자, 20대 남자, 60대 남자, 60대 여자, 70대 남자\n",
    "\n",
    "- **`고장내는사람이 많은 성별&연령대`** : 30대 여자, 40대 남자, 40대 여자\n",
    "\n",
    "정리하자면, 청소년, 노년층에서 고장내는 비율이 적고, 중장년층에서 고장비율이 많은 것 같습니다.\n",
    "그리고 40대를 제외하면 여자가 고장내는 비율이 더 높았습니다."
   ]
  },
  {
   "cell_type": "markdown",
   "id": "c1681f9a",
   "metadata": {},
   "source": [
    "<br>\n",
    "\n",
    "### 2. 성별과 고장의 연관성 "
   ]
  },
  {
   "cell_type": "code",
   "execution_count": 82,
   "id": "f3e5fdd7",
   "metadata": {},
   "outputs": [
    {
     "name": "stdout",
     "output_type": "stream",
     "text": [
      "고장     0     1\n",
      "성별            \n",
      "남자  8191  7947\n",
      "여자  4985  5229\n",
      "\n",
      "남자의 정상이 고장보다 3.07% 많습니다.\n",
      "고장! 여자의 고장이 정상보다 4.89% 많습니다.\n"
     ]
    },
    {
     "data": {
      "image/png": "[encoded data removed]",
      "text/plain": [
       "<Figure size 720x432 with 1 Axes>"
      ]
     },
     "metadata": {
      "needs_background": "light"
     },
     "output_type": "display_data"
    }
   ],
   "source": [
    "cross_table = pd.crosstab(df['성별'], df['고장'])\n",
    "print(cross_table)\n",
    "print()\n",
    "for i, row in cross_table.iterrows():\n",
    "    if row[0] <= row[1]:\n",
    "        print(\"고장! {}의 고장이 정상보다 {:.2f}% 많습니다.\".format(i, (row[1] - row[0]) / row[0] * 100))\n",
    "    else:\n",
    "        print(\"{}의 정상이 고장보다 {:.2f}% 많습니다.\".format(i, (row[0] - row[1]) / row[1] * 100))\n",
    "        \n",
    "fig, ax = plt.subplots(figsize=(10, 6))\n",
    "cross_table.plot(kind='bar', ax=ax)\n",
    "ax.set_xlabel('성별')\n",
    "ax.set_ylabel('고장')\n",
    "ax.set_title('고장에 따른 성별 분포')\n",
    "ax.legend(['0', '1'])\n",
    "plt.xticks(rotation=45)\n",
    "plt.show()"
   ]
  },
  {
   "cell_type": "markdown",
   "id": "39941b15",
   "metadata": {},
   "source": [
    "성별만 놓고 보니 확실히 남자보다 여자가 고장을 내는 비율이 더 많은 것을 알 수 있습니다."
   ]
  },
  {
   "cell_type": "markdown",
   "id": "b1e267f5",
   "metadata": {},
   "source": [
    "<br>\n",
    "\n",
    "### 3. 연령대와 고장의 연관성"
   ]
  },
  {
   "cell_type": "code",
   "execution_count": 83,
   "id": "20448734",
   "metadata": {},
   "outputs": [
    {
     "name": "stdout",
     "output_type": "stream",
     "text": [
      "고장        0     1\n",
      "연령대              \n",
      "10대이하   957   752\n",
      "20대    4260  4002\n",
      "30대    3756  4067\n",
      "40대    2162  2447\n",
      "50대    1463  1406\n",
      "60대     504   434\n",
      "70대이상    74    68\n",
      "\n",
      "10대이하의 정상이 고장보다 27.26% 많습니다.\n",
      "20대의 정상이 고장보다 6.45% 많습니다.\n",
      "고장! 30대의 고장이 정상보다 8.28% 많습니다.\n",
      "고장! 40대의 고장이 정상보다 13.18% 많습니다.\n",
      "50대의 정상이 고장보다 4.05% 많습니다.\n",
      "60대의 정상이 고장보다 16.13% 많습니다.\n",
      "70대이상의 정상이 고장보다 8.82% 많습니다.\n"
     ]
    },
    {
     "data": {
      "image/png": "[encoded data removed]",
      "text/plain": [
       "<Figure size 720x432 with 1 Axes>"
      ]
     },
     "metadata": {
      "needs_background": "light"
     },
     "output_type": "display_data"
    }
   ],
   "source": [
    "cross_table = pd.crosstab(df['연령대'], df['고장'])\n",
    "print(cross_table)\n",
    "print()\n",
    "\n",
    "diff = []\n",
    "for i, row in cross_table.iterrows():\n",
    "    if row[0] <= row[1]:\n",
    "        print(\"고장! {}의 고장이 정상보다 {:.2f}% 많습니다.\".format(i, (row[1] - row[0]) / row[0] * 100))\n",
    "    else:\n",
    "        print(\"{}의 정상이 고장보다 {:.2f}% 많습니다.\".format(i, (row[0] - row[1]) / row[1] * 100))\n",
    "    diff.append((row[1] - row[0]) / row[1] * 100)\n",
    "        \n",
    "fig, ax = plt.subplots(figsize=(10, 6))\n",
    "cross_table.plot(kind='bar', ax=ax)\n",
    "ax.set_xlabel('연령대')\n",
    "ax.set_ylabel('고장')\n",
    "ax.set_title('고장에 따른 연령대 분포')\n",
    "ax.legend(['0', '1'])\n",
    "plt.xticks(rotation=45)\n",
    "plt.show()"
   ]
  },
  {
   "cell_type": "markdown",
   "id": "d79e5e4c",
   "metadata": {},
   "source": [
    "연령대만 놓고 보면, 뭔가 선형성이 보이는 것 같습니다. 10대가 가장 고장비율이 적고, 40대로 가면 고장비율이 제일 높았다가, 60대로 가면 다시 높아지고, 70대에선 다시 낮아지는 결과를 볼 수 있었습니다.\n",
    "\n",
    "아래에 선형그래프로 고장비율을 시각화했습니다."
   ]
  },
  {
   "cell_type": "code",
   "execution_count": 84,
   "id": "9296008a",
   "metadata": {},
   "outputs": [
    {
     "data": {
      "image/png": "[encoded data removed]",
      "text/plain": [
       "<Figure size 576x432 with 1 Axes>"
      ]
     },
     "metadata": {
      "needs_background": "light"
     },
     "output_type": "display_data"
    }
   ],
   "source": [
    "df_broken = pd.DataFrame({'연령대':cross_table.index, '(고장-정상)/고장':diff})\n",
    "fig, ax = plt.subplots(figsize=(8, 6))\n",
    "df_broken.plot(x='연령대', y='(고장-정상)/고장', kind='line', ax=ax)\n",
    "ax.set_xlabel('연령대')\n",
    "ax.set_ylabel('(고장-정상)/고장')\n",
    "ax.set_title('고장비율추이')\n",
    "\n",
    "ax.axhline(0, color='red', linestyle='dotted')\n",
    "ax.plot(cross_table.index, diff, 'ro', markersize=3)\n",
    "\n",
    "# 플롯 출력\n",
    "plt.show()"
   ]
  },
  {
   "cell_type": "markdown",
   "id": "4b569082",
   "metadata": {},
   "source": [
    "그래프를 그려보니 3차원 선형그래프 정도의 선형성을 가지는것을 볼 수 있었습니다. 흥미로운 결과인 것 같습니다."
   ]
  }
 ],
 "metadata": {
  "kernelspec": {
   "display_name": "Python 3 (ipykernel)",
   "language": "python",
   "name": "python3"
  },
  "language_info": {
   "codemirror_mode": {
    "name": "ipython",
    "version": 3
   },
   "file_extension": ".py",
   "mimetype": "text/x-python",
   "name": "python",
   "nbconvert_exporter": "python",
   "pygments_lexer": "ipython3",
   "version": "3.9.12"
  }
 },
 "nbformat": 4,
 "nbformat_minor": 5
}
