{
 "cells": [
  {
   "cell_type": "code",
   "execution_count": 90,
   "id": "046aff28",
   "metadata": {},
   "outputs": [],
   "source": [
    "import pandas as pd\n",
    "import numpy as np\n",
    "import time\n",
    "import datetime\n",
    "import random as rd\n",
    "from IPython.display import clear_output\n",
    "\n",
    "START_MONTH = 11\n",
    "END_MONTH = 12 # 12월로 고정추천\n",
    "DAY_NUM = [0, 31, 28, 31, 30, 31, 30, 31, 31, 30, 31, 30, 31]\n",
    "rent_file_name = [\"\", \"\", \"\", \"\", \"\", \"\", \"\",\n",
    "                  \"서울특별시 공공자전거 대여이력 정보_2207.csv\", \n",
    "                  \"서울특별시 공공자전거 대여이력 정보_22081.csv\",\n",
    "                  \"서울특별시 공공자전거 대여이력 정보_2209.csv\",\n",
    "                  \"서울특별시 공공자전거 대여이력 정보_2210.csv\", \n",
    "                  \"서울특별시 공공자전거 대여이력 정보_2211.csv\",\n",
    "                  \"서울특별시 공공자전거 대여이력 정보_2212.csv\"]"
   ]
  },
  {
   "cell_type": "code",
   "execution_count": 91,
   "id": "78361d61",
   "metadata": {},
   "outputs": [
    {
     "name": "stdout",
     "output_type": "stream",
     "text": [
      "11월 대여이력 로드 완료\n",
      "12월 대여이력 로드 완료\n",
      "고장데이터 로드 완료\n"
     ]
    }
   ],
   "source": [
    "# 데이터 로드\n",
    "\n",
    "df_rent = [None] * 13\n",
    "for i in range(START_MONTH, END_MONTH + 1):\n",
    "    df_rent[i] = pd.read_csv(rent_file_name[i], encoding='cp949')\n",
    "    print(f\"{i}월 대여이력 로드 완료\")\n",
    "\n",
    "df_broken = pd.read_csv(\"서울시 공공자전거 고장신고 내역_22.07-12.csv\", encoding='cp949')\n",
    "print(\"고장데이터 로드 완료\")"
   ]
  },
  {
   "cell_type": "code",
   "execution_count": 93,
   "id": "9fd328ed",
   "metadata": {},
   "outputs": [
    {
     "name": "stdout",
     "output_type": "stream",
     "text": [
      "고장신고내역 전처리 완료\n"
     ]
    },
    {
     "name": "stderr",
     "output_type": "stream",
     "text": [
      "C:\\Users\\imihl\\AppData\\Local\\Temp\\ipykernel_15236\\3570315090.py:9: FutureWarning: The default value of regex will change from True to False in a future version. In addition, single character regular expressions will *not* be treated as literal strings when regex=True.\n",
      "  df[\"반납대여소번호\"] = df[\"반납대여소번호\"].str.replace('\\\\','')\n"
     ]
    },
    {
     "name": "stdout",
     "output_type": "stream",
     "text": [
      "11월 대여이력 전처리 완료\n"
     ]
    },
    {
     "name": "stderr",
     "output_type": "stream",
     "text": [
      "C:\\Users\\imihl\\AppData\\Local\\Temp\\ipykernel_15236\\3570315090.py:9: FutureWarning: The default value of regex will change from True to False in a future version. In addition, single character regular expressions will *not* be treated as literal strings when regex=True.\n",
      "  df[\"반납대여소번호\"] = df[\"반납대여소번호\"].str.replace('\\\\','')\n"
     ]
    },
    {
     "name": "stdout",
     "output_type": "stream",
     "text": [
      "12월 대여이력 전처리 완료\n"
     ]
    }
   ],
   "source": [
    "def 대여이력정보_전처리(df):\n",
    "    # 시계열 데이터 전처리\n",
    "    df = df[(df['대여일시'] != '0000-00-00 00:00:00') & (df['반납일시'] != '0000-00-00 00:00:00')]\n",
    "    df['대여일시'] = pd.to_datetime(df['대여일시']) # 문자열로 되있는 날짜들을 datatime 타입으로 변경\n",
    "    df['대여요일'] = df['대여일시'].dt.day_name()\n",
    "    df['반납일시'] = pd.to_datetime(df['반납일시'])\n",
    "    \n",
    "    # 반납이 되지 않아 대여소 번호가 없으면 -1로 전처리\n",
    "    df[\"반납대여소번호\"] = df[\"반납대여소번호\"].str.replace('\\\\','')\n",
    "    df[\"반납대여소번호\"] = df[\"반납대여소번호\"].str.replace('N','-1')\n",
    "    df = df.astype({'반납대여소번호': 'int'})\n",
    "    \n",
    "     # 중복되어 필요없는 열 삭제\n",
    "    df.drop(['대여거치대', '반납거치대', '대여대여소ID', '반납대여소ID'], axis=1, inplace=True)\n",
    "    return df\n",
    "\n",
    "def 고장신고내역_전처리(df):\n",
    "    df['등록일시'] = pd.to_datetime(df['등록일시']) # 문자열로 되있는 날짜들을 datatime 타입으로 변경\n",
    "    df = df.drop_duplicates(['자전거번호', '등록일시']) # 같은 고장신고인데 유형만 다른 데이터 중복 제거\n",
    "    return df\n",
    "\n",
    "df_broken_p = 고장신고내역_전처리(df_broken)\n",
    "print(\"고장신고내역 전처리 완료\")\n",
    "\n",
    "# 대여이력 전처리 실행\n",
    "df_rent_m = [None] * 13 # 월 기준으로 나눈 대여이력 : df_rent_m[12] -> 12월 대여이력 df \n",
    "for m in range(START_MONTH, END_MONTH + 1):\n",
    "    df_rent_m[m] = 대여이력정보_전처리(df_rent[m])\n",
    "    print(f\"{m}월 대여이력 전처리 완료\")"
   ]
  },
  {
   "cell_type": "code",
   "execution_count": 94,
   "id": "95380aeb",
   "metadata": {},
   "outputs": [
    {
     "name": "stdout",
     "output_type": "stream",
     "text": [
      "            자전거번호                대여일시  대여 대여소번호       대여 대여소명  \\\n",
      "614365  SPB-36412 2022-11-05 00:00:32      1112   마곡엠밸리4단지 정문   \n",
      "614366  SPB-50709 2022-11-05 00:01:26      2033  사당동 아르테스 웨딩앞   \n",
      "614367  SPB-57225 2022-11-05 00:00:12      1251      석촌역 2번출구   \n",
      "614368  SPB-46458 2022-11-05 00:01:51       114  홍대입구역 8번출구 앞   \n",
      "614369  SPB-84181 2022-11-05 00:02:53       577      광진청소년수련관   \n",
      "\n",
      "                      반납일시  반납대여소번호        반납대여소명  이용시간(분)  이용거리(M)    생년  성별  \\\n",
      "614365 2022-11-05 00:03:02     2702     마곡 엠밸리2단지        2     0.00  1970   M   \n",
      "614366 2022-11-05 00:03:16     2082   7호선 이수역7번출구        1   320.00  1980  \\N   \n",
      "614367 2022-11-05 00:03:16     1251      석촌역 2번출구        3    31.88  1965  \\N   \n",
      "614368 2022-11-05 00:03:18      114  홍대입구역 8번출구 앞        1    40.00  1965   F   \n",
      "614369 2022-11-05 00:03:22      577      광진청소년수련관        0     0.00  2003   F   \n",
      "\n",
      "       이용자종류      대여요일  \n",
      "614365   내국인  Saturday  \n",
      "614366   내국인  Saturday  \n",
      "614367   내국인  Saturday  \n",
      "614368   내국인  Saturday  \n",
      "614369   내국인  Saturday  \n"
     ]
    }
   ],
   "source": [
    "# 필요한 날짜만 조회하여 시간을 줄이기 위해 일 단위로 df 나누기\n",
    "df_rent_d = [[None] * 32 for i in range(13)] # 월, 일 기준으로 나눈 대여이력 : df_rent_d[12][25] -> 12월 25일 대여이력 df\n",
    "for m in range(START_MONTH, END_MONTH + 1):\n",
    "    now = datetime.datetime(2022, m, 1)\n",
    "    now = now.replace(hour=0, minute=0, second=0)\n",
    "    next_day = now + timedelta(hours=24)\n",
    "    \n",
    "    for d in range(1, DAY_NUM[m] + 1):\n",
    "        df_rent_d[m][d] = df_rent_m[m][(now <= df_rent_m[m]['대여일시']) & (df_rent_m[m]['대여일시'] < next_day)]\n",
    "        now += timedelta(hours=24)\n",
    "        next_day += timedelta(hours=24)\n",
    "\n",
    "print(df_rent_d[START_MONTH][5].head())"
   ]
  },
  {
   "cell_type": "code",
   "execution_count": null,
   "id": "571300c9",
   "metadata": {},
   "outputs": [
    {
     "name": "stdout",
     "output_type": "stream",
     "text": [
      "52.93%... 1585.69초 경과\n"
     ]
    }
   ],
   "source": [
    "def 고장신고부터_n시간전까지_대여이력추출(n, start_month = 12):\n",
    "    rent_num = [] # n시간동안 대여횟수\n",
    "    broken_id = [] # 원본 파일 인덱스\n",
    "    broken_date = []\n",
    "    \n",
    "    df_new_broken = pd.DataFrame(columns=df_broken_p.columns)\n",
    "    df_rent_broken = pd.DataFrame(columns = df_rent_m[start_month].columns)\n",
    "    \n",
    "    start_time = time.time()\n",
    "    for i, row in df_broken_p.iterrows():\n",
    "        end = row['등록일시']\n",
    "        start = end - timedelta(hours=n)\n",
    "        \n",
    "        # start_month 월 이전 데이터를 사용해야하는 고장신고는 건너뛰기\n",
    "        if start.month < start_month:\n",
    "            continue\n",
    "\n",
    "        filtered_df = pd.DataFrame(columns = df_rent_m[start_month].columns)\n",
    "        # start와 end month가 다를수도 있으므로 해당 기간에 속한 month들 모두 탐색\n",
    "        for m in range(start.month, end.month + 1):\n",
    "            end_day = end.day if m == end.month else DAY_NUM[m]\n",
    "            \n",
    "            for d in range(start.day, end_day + 1):\n",
    "            # 기간안에 속한 대여이력 추출\n",
    "                tmp_df = df_rent_d[m][d][(start <= df_rent_d[m][d]['대여일시']) & (df_rent_d[m][d]['대여일시'] < end)]\n",
    "                tmp_df = tmp_df[tmp_df['자전거번호'] == row[0]]\n",
    "                filtered_df = pd.concat([tmp_df, filtered_df])\n",
    "                \n",
    "\n",
    "        rent_num.append(len(filtered_df))\n",
    "        broken_id.append(i)\n",
    "        broken_date.append(row['등록일시'])\n",
    "        df_new_broken = pd.concat([df_new_broken, row.to_frame().T], ignore_index=True)\n",
    "        filtered_df['고장일시'] = row['등록일시']\n",
    "        df_rent_broken = pd.concat([df_rent_broken, filtered_df], ignore_index=True)\n",
    "        \n",
    "        if i % 100 == 0:\n",
    "            clear_output()\n",
    "            now = time.time() - start_time\n",
    "            print(\"{:.2f}%... {:.2f}초 경과\".format((i - broken_id[0]) / (len(df_broken) - broken_id[0]) * 100, now))\n",
    "        \n",
    "        \n",
    "    print(f\"100% 완료!... {time.time() - start_time}초 경과\")\n",
    "    \n",
    "    name = str(n) + \"시간동안대여수\"\n",
    "    df_new_broken[name] = rent_num\n",
    "    df_new_broken[\"원본파일인덱스\"] = broken_id\n",
    "    \n",
    "    name = f\"{start_month}~12 고장신고내역(N={n}시간).csv\"\n",
    "    df_new_broken.to_csv(name, encoding='cp949')\n",
    "    name = f\"{start_month}~12 대여이력(N={n}시간내고장).csv\"\n",
    "    df_rent_broken.to_csv(name, encoding='cp949')\n",
    "    print(\"파일저장완료\")\n",
    "    \n",
    "    return df_new_broken, df_rent_broken\n",
    "\n",
    "df, df2 = 고장신고부터_n시간전까지_대여이력추출(72, START_MONTH)"
   ]
  },
  {
   "cell_type": "code",
   "execution_count": 85,
   "id": "265a659b",
   "metadata": {},
   "outputs": [
    {
     "ename": "KeyboardInterrupt",
     "evalue": "",
     "output_type": "error",
     "traceback": [
      "\u001b[1;31m---------------------------------------------------------------------------\u001b[0m",
      "\u001b[1;31mKeyboardInterrupt\u001b[0m                         Traceback (most recent call last)",
      "Cell \u001b[1;32mIn[85], line 71\u001b[0m\n\u001b[0;32m     67\u001b[0m     \u001b[38;5;28mprint\u001b[39m(\u001b[38;5;124m\"\u001b[39m\u001b[38;5;124m파일저장완료\u001b[39m\u001b[38;5;124m\"\u001b[39m)\n\u001b[0;32m     69\u001b[0m     \u001b[38;5;28;01mreturn\u001b[39;00m df_new_broken, df_rent_broken\n\u001b[1;32m---> 71\u001b[0m df, df2 \u001b[38;5;241m=\u001b[39m \u001b[43m고장신고부터_n시간전까지_대여이력추출\u001b[49m\u001b[43m(\u001b[49m\u001b[38;5;241;43m72\u001b[39;49m\u001b[43m)\u001b[49m\n\u001b[0;32m     72\u001b[0m \u001b[38;5;28mprint\u001b[39m(df\u001b[38;5;241m.\u001b[39mhead())\n\u001b[0;32m     73\u001b[0m \u001b[38;5;28mprint\u001b[39m(df2\u001b[38;5;241m.\u001b[39mhead())\n",
      "Cell \u001b[1;32mIn[85], line 16\u001b[0m, in \u001b[0;36m고장신고부터_n시간전까지_대여이력추출\u001b[1;34m(n, short_dist, short_time, start_month)\u001b[0m\n\u001b[0;32m     13\u001b[0m df_rent_broken \u001b[38;5;241m=\u001b[39m pd\u001b[38;5;241m.\u001b[39mDataFrame(columns \u001b[38;5;241m=\u001b[39m df_rent_m[start_month]\u001b[38;5;241m.\u001b[39mcolumns)\n\u001b[0;32m     15\u001b[0m start_time \u001b[38;5;241m=\u001b[39m time\u001b[38;5;241m.\u001b[39mtime()\n\u001b[1;32m---> 16\u001b[0m \u001b[38;5;28;01mfor\u001b[39;00m i, row \u001b[38;5;129;01min\u001b[39;00m df_broken_p\u001b[38;5;241m.\u001b[39miterrows():\n\u001b[0;32m     17\u001b[0m     end \u001b[38;5;241m=\u001b[39m row[\u001b[38;5;124m'\u001b[39m\u001b[38;5;124m등록일시\u001b[39m\u001b[38;5;124m'\u001b[39m]\n\u001b[0;32m     18\u001b[0m     start \u001b[38;5;241m=\u001b[39m end \u001b[38;5;241m-\u001b[39m timedelta(hours\u001b[38;5;241m=\u001b[39mn)\n",
      "File \u001b[1;32mC:\\Anaconda\\envs\\2023-DS-B\\lib\\site-packages\\pandas\\core\\frame.py:1411\u001b[0m, in \u001b[0;36mDataFrame.iterrows\u001b[1;34m(self)\u001b[0m\n\u001b[0;32m   1409\u001b[0m klass \u001b[38;5;241m=\u001b[39m \u001b[38;5;28mself\u001b[39m\u001b[38;5;241m.\u001b[39m_constructor_sliced\n\u001b[0;32m   1410\u001b[0m \u001b[38;5;28;01mfor\u001b[39;00m k, v \u001b[38;5;129;01min\u001b[39;00m \u001b[38;5;28mzip\u001b[39m(\u001b[38;5;28mself\u001b[39m\u001b[38;5;241m.\u001b[39mindex, \u001b[38;5;28mself\u001b[39m\u001b[38;5;241m.\u001b[39mvalues):\n\u001b[1;32m-> 1411\u001b[0m     s \u001b[38;5;241m=\u001b[39m \u001b[43mklass\u001b[49m\u001b[43m(\u001b[49m\u001b[43mv\u001b[49m\u001b[43m,\u001b[49m\u001b[43m \u001b[49m\u001b[43mindex\u001b[49m\u001b[38;5;241;43m=\u001b[39;49m\u001b[43mcolumns\u001b[49m\u001b[43m,\u001b[49m\u001b[43m \u001b[49m\u001b[43mname\u001b[49m\u001b[38;5;241;43m=\u001b[39;49m\u001b[43mk\u001b[49m\u001b[43m)\u001b[49m\u001b[38;5;241m.\u001b[39m__finalize__(\u001b[38;5;28mself\u001b[39m)\n\u001b[0;32m   1412\u001b[0m     \u001b[38;5;28;01myield\u001b[39;00m k, s\n",
      "File \u001b[1;32mC:\\Anaconda\\envs\\2023-DS-B\\lib\\site-packages\\pandas\\core\\series.py:470\u001b[0m, in \u001b[0;36mSeries.__init__\u001b[1;34m(self, data, index, dtype, name, copy, fastpath)\u001b[0m\n\u001b[0;32m    468\u001b[0m         data \u001b[38;5;241m=\u001b[39m data\u001b[38;5;241m.\u001b[39mcopy()\n\u001b[0;32m    469\u001b[0m \u001b[38;5;28;01melse\u001b[39;00m:\n\u001b[1;32m--> 470\u001b[0m     data \u001b[38;5;241m=\u001b[39m \u001b[43msanitize_array\u001b[49m\u001b[43m(\u001b[49m\u001b[43mdata\u001b[49m\u001b[43m,\u001b[49m\u001b[43m \u001b[49m\u001b[43mindex\u001b[49m\u001b[43m,\u001b[49m\u001b[43m \u001b[49m\u001b[43mdtype\u001b[49m\u001b[43m,\u001b[49m\u001b[43m \u001b[49m\u001b[43mcopy\u001b[49m\u001b[43m)\u001b[49m\n\u001b[0;32m    472\u001b[0m     manager \u001b[38;5;241m=\u001b[39m get_option(\u001b[38;5;124m\"\u001b[39m\u001b[38;5;124mmode.data_manager\u001b[39m\u001b[38;5;124m\"\u001b[39m)\n\u001b[0;32m    473\u001b[0m     \u001b[38;5;28;01mif\u001b[39;00m manager \u001b[38;5;241m==\u001b[39m \u001b[38;5;124m\"\u001b[39m\u001b[38;5;124mblock\u001b[39m\u001b[38;5;124m\"\u001b[39m:\n",
      "File \u001b[1;32mC:\\Anaconda\\envs\\2023-DS-B\\lib\\site-packages\\pandas\\core\\construction.py:597\u001b[0m, in \u001b[0;36msanitize_array\u001b[1;34m(data, index, dtype, copy, raise_cast_failure, allow_2d)\u001b[0m\n\u001b[0;32m    594\u001b[0m             subarr \u001b[38;5;241m=\u001b[39m np\u001b[38;5;241m.\u001b[39marray(data, copy\u001b[38;5;241m=\u001b[39mcopy)\n\u001b[0;32m    595\u001b[0m     \u001b[38;5;28;01melse\u001b[39;00m:\n\u001b[0;32m    596\u001b[0m         \u001b[38;5;66;03m# we will try to copy by-definition here\u001b[39;00m\n\u001b[1;32m--> 597\u001b[0m         subarr \u001b[38;5;241m=\u001b[39m \u001b[43m_try_cast\u001b[49m\u001b[43m(\u001b[49m\u001b[43mdata\u001b[49m\u001b[43m,\u001b[49m\u001b[43m \u001b[49m\u001b[43mdtype\u001b[49m\u001b[43m,\u001b[49m\u001b[43m \u001b[49m\u001b[43mcopy\u001b[49m\u001b[43m,\u001b[49m\u001b[43m \u001b[49m\u001b[43mraise_cast_failure\u001b[49m\u001b[43m)\u001b[49m\n\u001b[0;32m    599\u001b[0m \u001b[38;5;28;01melif\u001b[39;00m \u001b[38;5;28misinstance\u001b[39m(data, ABCExtensionArray):\n\u001b[0;32m    600\u001b[0m     \u001b[38;5;66;03m# it is already ensured above this is not a PandasArray\u001b[39;00m\n\u001b[0;32m    601\u001b[0m     subarr \u001b[38;5;241m=\u001b[39m data\n",
      "File \u001b[1;32mC:\\Anaconda\\envs\\2023-DS-B\\lib\\site-packages\\pandas\\core\\construction.py:777\u001b[0m, in \u001b[0;36m_try_cast\u001b[1;34m(arr, dtype, copy, raise_cast_failure)\u001b[0m\n\u001b[0;32m    774\u001b[0m \u001b[38;5;28;01mif\u001b[39;00m arr\u001b[38;5;241m.\u001b[39mdtype \u001b[38;5;241m!=\u001b[39m \u001b[38;5;28mobject\u001b[39m:\n\u001b[0;32m    775\u001b[0m     \u001b[38;5;28;01mreturn\u001b[39;00m sanitize_to_nanoseconds(arr, copy\u001b[38;5;241m=\u001b[39mcopy)\n\u001b[1;32m--> 777\u001b[0m out \u001b[38;5;241m=\u001b[39m \u001b[43mmaybe_infer_to_datetimelike\u001b[49m\u001b[43m(\u001b[49m\u001b[43marr\u001b[49m\u001b[43m)\u001b[49m\n\u001b[0;32m    778\u001b[0m \u001b[38;5;28;01mif\u001b[39;00m out \u001b[38;5;129;01mis\u001b[39;00m arr \u001b[38;5;129;01mand\u001b[39;00m copy:\n\u001b[0;32m    779\u001b[0m     out \u001b[38;5;241m=\u001b[39m out\u001b[38;5;241m.\u001b[39mcopy()\n",
      "File \u001b[1;32mC:\\Anaconda\\envs\\2023-DS-B\\lib\\site-packages\\pandas\\core\\dtypes\\cast.py:1255\u001b[0m, in \u001b[0;36mmaybe_infer_to_datetimelike\u001b[1;34m(value)\u001b[0m\n\u001b[0;32m   1248\u001b[0m     \u001b[38;5;28;01mreturn\u001b[39;00m lib\u001b[38;5;241m.\u001b[39mmaybe_convert_objects(  \u001b[38;5;66;03m# type: ignore[return-value]\u001b[39;00m\n\u001b[0;32m   1249\u001b[0m         v, convert_period\u001b[38;5;241m=\u001b[39m\u001b[38;5;28;01mTrue\u001b[39;00m, convert_interval\u001b[38;5;241m=\u001b[39m\u001b[38;5;28;01mTrue\u001b[39;00m\n\u001b[0;32m   1250\u001b[0m     )\n\u001b[0;32m   1252\u001b[0m \u001b[38;5;28;01mif\u001b[39;00m inferred_type \u001b[38;5;241m==\u001b[39m \u001b[38;5;124m\"\u001b[39m\u001b[38;5;124mdatetime\u001b[39m\u001b[38;5;124m\"\u001b[39m:\n\u001b[0;32m   1253\u001b[0m     \u001b[38;5;66;03m# error: Incompatible types in assignment (expression has type \"ExtensionArray\",\u001b[39;00m\n\u001b[0;32m   1254\u001b[0m     \u001b[38;5;66;03m# variable has type \"Union[ndarray, List[Any]]\")\u001b[39;00m\n\u001b[1;32m-> 1255\u001b[0m     value \u001b[38;5;241m=\u001b[39m \u001b[43mtry_datetime\u001b[49m\u001b[43m(\u001b[49m\u001b[43mv\u001b[49m\u001b[43m)\u001b[49m  \u001b[38;5;66;03m# type: ignore[assignment]\u001b[39;00m\n\u001b[0;32m   1256\u001b[0m \u001b[38;5;28;01melif\u001b[39;00m inferred_type \u001b[38;5;241m==\u001b[39m \u001b[38;5;124m\"\u001b[39m\u001b[38;5;124mtimedelta\u001b[39m\u001b[38;5;124m\"\u001b[39m:\n\u001b[0;32m   1257\u001b[0m     value \u001b[38;5;241m=\u001b[39m try_timedelta(v)\n",
      "File \u001b[1;32mC:\\Anaconda\\envs\\2023-DS-B\\lib\\site-packages\\pandas\\core\\dtypes\\cast.py:1219\u001b[0m, in \u001b[0;36mmaybe_infer_to_datetimelike.<locals>.try_datetime\u001b[1;34m(v)\u001b[0m\n\u001b[0;32m   1214\u001b[0m \u001b[38;5;28;01mfrom\u001b[39;00m \u001b[38;5;21;01mpandas\u001b[39;00m\u001b[38;5;21;01m.\u001b[39;00m\u001b[38;5;21;01mcore\u001b[39;00m\u001b[38;5;21;01m.\u001b[39;00m\u001b[38;5;21;01marrays\u001b[39;00m\u001b[38;5;21;01m.\u001b[39;00m\u001b[38;5;21;01mdatetimes\u001b[39;00m \u001b[38;5;28;01mimport\u001b[39;00m sequence_to_datetimes\n\u001b[0;32m   1216\u001b[0m \u001b[38;5;28;01mtry\u001b[39;00m:\n\u001b[0;32m   1217\u001b[0m     \u001b[38;5;66;03m# GH#19671 we pass require_iso8601 to be relatively strict\u001b[39;00m\n\u001b[0;32m   1218\u001b[0m     \u001b[38;5;66;03m#  when parsing strings.\u001b[39;00m\n\u001b[1;32m-> 1219\u001b[0m     dta \u001b[38;5;241m=\u001b[39m \u001b[43msequence_to_datetimes\u001b[49m\u001b[43m(\u001b[49m\u001b[43mv\u001b[49m\u001b[43m,\u001b[49m\u001b[43m \u001b[49m\u001b[43mrequire_iso8601\u001b[49m\u001b[38;5;241;43m=\u001b[39;49m\u001b[38;5;28;43;01mTrue\u001b[39;49;00m\u001b[43m)\u001b[49m\n\u001b[0;32m   1220\u001b[0m \u001b[38;5;28;01mexcept\u001b[39;00m (\u001b[38;5;167;01mValueError\u001b[39;00m, \u001b[38;5;167;01mTypeError\u001b[39;00m):\n\u001b[0;32m   1221\u001b[0m     \u001b[38;5;66;03m# e.g. <class 'numpy.timedelta64'> is not convertible to datetime\u001b[39;00m\n\u001b[0;32m   1222\u001b[0m     \u001b[38;5;28;01mreturn\u001b[39;00m v\u001b[38;5;241m.\u001b[39mreshape(shape)\n",
      "File \u001b[1;32mC:\\Anaconda\\envs\\2023-DS-B\\lib\\site-packages\\pandas\\core\\arrays\\datetimes.py:1969\u001b[0m, in \u001b[0;36msequence_to_datetimes\u001b[1;34m(data, require_iso8601)\u001b[0m\n\u001b[0;32m   1965\u001b[0m \u001b[38;5;28;01mdef\u001b[39;00m \u001b[38;5;21msequence_to_datetimes\u001b[39m(data, require_iso8601: \u001b[38;5;28mbool\u001b[39m \u001b[38;5;241m=\u001b[39m \u001b[38;5;28;01mFalse\u001b[39;00m) \u001b[38;5;241m-\u001b[39m\u001b[38;5;241m>\u001b[39m DatetimeArray:\n\u001b[0;32m   1966\u001b[0m     \u001b[38;5;124;03m\"\"\"\u001b[39;00m\n\u001b[0;32m   1967\u001b[0m \u001b[38;5;124;03m    Parse/convert the passed data to either DatetimeArray or np.ndarray[object].\u001b[39;00m\n\u001b[0;32m   1968\u001b[0m \u001b[38;5;124;03m    \"\"\"\u001b[39;00m\n\u001b[1;32m-> 1969\u001b[0m     result, tz, freq \u001b[38;5;241m=\u001b[39m \u001b[43m_sequence_to_dt64ns\u001b[49m\u001b[43m(\u001b[49m\n\u001b[0;32m   1970\u001b[0m \u001b[43m        \u001b[49m\u001b[43mdata\u001b[49m\u001b[43m,\u001b[49m\n\u001b[0;32m   1971\u001b[0m \u001b[43m        \u001b[49m\u001b[43mallow_mixed\u001b[49m\u001b[38;5;241;43m=\u001b[39;49m\u001b[38;5;28;43;01mTrue\u001b[39;49;00m\u001b[43m,\u001b[49m\n\u001b[0;32m   1972\u001b[0m \u001b[43m        \u001b[49m\u001b[43mrequire_iso8601\u001b[49m\u001b[38;5;241;43m=\u001b[39;49m\u001b[43mrequire_iso8601\u001b[49m\u001b[43m,\u001b[49m\n\u001b[0;32m   1973\u001b[0m \u001b[43m    \u001b[49m\u001b[43m)\u001b[49m\n\u001b[0;32m   1975\u001b[0m     dtype \u001b[38;5;241m=\u001b[39m tz_to_dtype(tz)\n\u001b[0;32m   1976\u001b[0m     dta \u001b[38;5;241m=\u001b[39m DatetimeArray\u001b[38;5;241m.\u001b[39m_simple_new(result, freq\u001b[38;5;241m=\u001b[39mfreq, dtype\u001b[38;5;241m=\u001b[39mdtype)\n",
      "File \u001b[1;32mC:\\Anaconda\\envs\\2023-DS-B\\lib\\site-packages\\pandas\\core\\arrays\\datetimes.py:2049\u001b[0m, in \u001b[0;36m_sequence_to_dt64ns\u001b[1;34m(data, dtype, copy, tz, dayfirst, yearfirst, ambiguous, allow_mixed, require_iso8601)\u001b[0m\n\u001b[0;32m   2041\u001b[0m \u001b[38;5;28;01mif\u001b[39;00m (\n\u001b[0;32m   2042\u001b[0m     is_object_dtype(data_dtype)\n\u001b[0;32m   2043\u001b[0m     \u001b[38;5;129;01mor\u001b[39;00m is_string_dtype(data_dtype)\n\u001b[1;32m   (...)\u001b[0m\n\u001b[0;32m   2046\u001b[0m     \u001b[38;5;66;03m# TODO: We do not have tests specific to string-dtypes,\u001b[39;00m\n\u001b[0;32m   2047\u001b[0m     \u001b[38;5;66;03m#  also complex or categorical or other extension\u001b[39;00m\n\u001b[0;32m   2048\u001b[0m     copy \u001b[38;5;241m=\u001b[39m \u001b[38;5;28;01mFalse\u001b[39;00m\n\u001b[1;32m-> 2049\u001b[0m     \u001b[38;5;28;01mif\u001b[39;00m \u001b[43mlib\u001b[49m\u001b[38;5;241;43m.\u001b[39;49m\u001b[43minfer_dtype\u001b[49m\u001b[43m(\u001b[49m\u001b[43mdata\u001b[49m\u001b[43m,\u001b[49m\u001b[43m \u001b[49m\u001b[43mskipna\u001b[49m\u001b[38;5;241;43m=\u001b[39;49m\u001b[38;5;28;43;01mFalse\u001b[39;49;00m\u001b[43m)\u001b[49m\u001b[43m \u001b[49m\u001b[38;5;241;43m==\u001b[39;49m\u001b[43m \u001b[49m\u001b[38;5;124;43m\"\u001b[39;49m\u001b[38;5;124;43minteger\u001b[39;49m\u001b[38;5;124;43m\"\u001b[39;49m:\n\u001b[0;32m   2050\u001b[0m         data \u001b[38;5;241m=\u001b[39m data\u001b[38;5;241m.\u001b[39mastype(np\u001b[38;5;241m.\u001b[39mint64)\n\u001b[0;32m   2051\u001b[0m     \u001b[38;5;28;01melse\u001b[39;00m:\n\u001b[0;32m   2052\u001b[0m         \u001b[38;5;66;03m# data comes back here as either i8 to denote UTC timestamps\u001b[39;00m\n\u001b[0;32m   2053\u001b[0m         \u001b[38;5;66;03m#  or M8[ns] to denote wall times\u001b[39;00m\n",
      "\u001b[1;31mKeyboardInterrupt\u001b[0m: "
     ]
    }
   ],
   "source": [
    "# n = 시간\n",
    "# short_dist = 짧은 대여 이력의 이용거리 기준\n",
    "# short_time = 짧은 대여 이력의 이용시간 기준\n",
    "# start_month = start_month 이후의 데이터만 다룸 - 7~12월을 다 하면 시간이 너무 들기 때문에 12월만 하는것으로 디폴트설정\n",
    "def 고장신고부터_n시간전까지_대여이력추출(n, short_dist = 100, short_time = 1, start_month = 12):\n",
    "    rent_num = [] # n시간동안 대여횟수\n",
    "    short_rent_num = [] # n시간동안 짧은 대여 횟수\n",
    "    broken_id = [] # 원본 파일 인덱스\n",
    "    pro = [] # 짧은대여수 / 총 대여수\n",
    "    broken_date = []\n",
    "    \n",
    "    df_new_broken = pd.DataFrame(columns=df_broken_p.columns)\n",
    "    df_rent_broken = pd.DataFrame(columns = df_rent_m[start_month].columns)\n",
    "    \n",
    "    start_time = time.time()\n",
    "    for i, row in df_broken_p.iterrows():\n",
    "        end = row['등록일시']\n",
    "        start = end - timedelta(hours=n)\n",
    "        \n",
    "        # start_month 월 이전 데이터를 사용해야하는 고장신고는 건너뛰기\n",
    "        if start.month < start_month:\n",
    "            continue\n",
    "\n",
    "        filtered_df = pd.DataFrame(columns = df_rent_m[start_month].columns)\n",
    "        # start와 end month가 다를수도 있으므로 해당 기간에 속한 month들 모두 탐색\n",
    "        for m in range(start.month, end.month + 1):\n",
    "            end_day = end.day if m == end.month else DAY_NUM[m]\n",
    "            \n",
    "            for d in range(start.day, end_day + 1):\n",
    "            # 기간안에 속한 대여이력 추출\n",
    "                tmp_df = df_rent_d[m][d][(start <= df_rent_d[m][d]['대여일시']) & (df_rent_d[m][d]['대여일시'] < end)]\n",
    "                tmp_df = tmp_df[tmp_df['자전거번호'] == row[0]]\n",
    "                filtered_df = pd.concat([tmp_df, filtered_df])\n",
    "        rent_num.append(len(filtered_df))\n",
    "        \n",
    "        \n",
    "        # 짧은 대여 이력 추출 - 거리와 시간 중 하나라도 만족하면 짧은 거리라고 판단\n",
    "        filtered_df = filtered_df[(filtered_df['이용거리(M)'] <= short_dist) | (filtered_df['이용시간(분)'] <= short_time)]\n",
    "        short_rent_num.append(len(filtered_df))\n",
    "        pro.append(0 if rent_num[-1] == 0 else short_rent_num[-1] / rent_num[-1])\n",
    "\n",
    "        broken_id.append(i)\n",
    "        broken_date.append(row['등록일시'])\n",
    "        df_new_broken = pd.concat([df_new_broken, row.to_frame().T], ignore_index=True)\n",
    "        filtered_df['고장일시'] = row['등록일시']\n",
    "        df_rent_broken = pd.concat([df_rent_broken, filtered_df], ignore_index=True)\n",
    "        \n",
    "        if i % 100 == 0:\n",
    "            clear_output()\n",
    "            now = time.time() - start_time\n",
    "            print(\"{:.2f}%... {:.2f}초 경과\".format((i - broken_id[0]) / (len(df_broken) - broken_id[0]) * 100, now))\n",
    "        \n",
    "        \n",
    "    print(f\"100% 완료!... {time.time() - start_time}초 경과\")\n",
    "    \n",
    "    name = str(n) + \"시간동안대여수\"\n",
    "    df_new_broken[name] = rent_num\n",
    "    df_new_broken[\"짧은대여수\"] = short_rent_num\n",
    "    df_new_broken[\"짧은대여비율\"] = pro\n",
    "    df_new_broken[\"원본파일인덱스\"] = broken_id\n",
    "    \n",
    "    name = f\"{start_month}~12 고장신고내역+짧은대여(N={n}시간,dist={short_dist},time={short_time}).csv\"\n",
    "    df_new_broken.to_csv(name, encoding='cp949')\n",
    "    name = f\"{start_month}~12 짧은대여이력(N={n}시간,dist={short_dist},time={short_time}).csv\"\n",
    "    df_rent_broken.to_csv(name, encoding='cp949')\n",
    "    print(\"파일저장완료\")\n",
    "    \n",
    "    return df_new_broken, df_rent_broken\n",
    "\n",
    "df, df2 = 고장신고부터_n시간전까지_대여이력추출(72)"
   ]
  },
  {
   "cell_type": "code",
   "execution_count": null,
   "id": "e23d9569",
   "metadata": {},
   "outputs": [],
   "source": [
    "df_rent_m[12]\n",
    "\n",
    "def 정상자전거_대여이력추출(n, size):\n",
    "    a = 0"
   ]
  }
 ],
 "metadata": {
  "kernelspec": {
   "display_name": "Python [conda env:2023-DS-B] *",
   "language": "python",
   "name": "conda-env-2023-DS-B-py"
  },
  "language_info": {
   "codemirror_mode": {
    "name": "ipython",
    "version": 3
   },
   "file_extension": ".py",
   "mimetype": "text/x-python",
   "name": "python",
   "nbconvert_exporter": "python",
   "pygments_lexer": "ipython3",
   "version": "3.10.9"
  }
 },
 "nbformat": 4,
 "nbformat_minor": 5
}
