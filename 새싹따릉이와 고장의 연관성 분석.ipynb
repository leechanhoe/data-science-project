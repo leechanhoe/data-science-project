{
 "cells": [
  {
   "cell_type": "code",
   "execution_count": 15,
   "id": "5e991e27",
   "metadata": {},
   "outputs": [],
   "source": [
    "import pandas as pd\n",
    "import matplotlib\n",
    "import matplotlib.pyplot as plt\n",
    "matplotlib.rcParams['font.family'] ='Malgun Gothic'\n",
    "matplotlib.rcParams['axes.unicode_minus'] = False"
   ]
  },
  {
   "cell_type": "code",
   "execution_count": 16,
   "id": "3722254b",
   "metadata": {},
   "outputs": [],
   "source": [
    "df_rent7 = pd.read_csv(\"서울특별시 공공자전거 대여이력 정보_2207.csv\")\n",
    "df_rent8 = pd.read_csv(\"서울특별시 공공자전거 대여이력 정보_22081.csv\")\n",
    "df_rent9 = pd.read_csv(\"서울특별시 공공자전거 대여이력 정보_2209.csv\")\n",
    "df_rent10 = pd.read_csv(\"서울특별시 공공자전거 대여이력 정보_2210.csv\")\n",
    "df_rent11 = pd.read_csv(\"서울특별시 공공자전거 대여이력 정보_2211.csv\")\n",
    "df_rent12 = pd.read_csv(\"서울특별시 공공자전거 대여이력 정보_2212.csv\")"
   ]
  },
  {
   "cell_type": "code",
   "execution_count": 17,
   "id": "0041b980",
   "metadata": {},
   "outputs": [],
   "source": [
    "df_rent = pd.concat([df_rent7, df_rent8, df_rent9, df_rent10, df_rent11, df_rent12])"
   ]
  },
  {
   "cell_type": "code",
   "execution_count": 18,
   "id": "65947fde",
   "metadata": {},
   "outputs": [],
   "source": [
    "df = pd.read_csv(\"training_data7~12.csv\")"
   ]
  },
  {
   "cell_type": "markdown",
   "id": "5304f255",
   "metadata": {},
   "source": [
    "## 새싹따릉이와 고장의 연관성분석\n",
    "\n",
    "7월부터 12월까지 대여이력에서 자전거번호를 unique하여 실제로 운행되는 자전거번호들 중 따릉이의 비율"
   ]
  },
  {
   "cell_type": "code",
   "execution_count": 19,
   "id": "e6513616",
   "metadata": {},
   "outputs": [
    {
     "name": "stdout",
     "output_type": "stream",
     "text": [
      "7~12월 새싹따릉이 운용 비율 : 0.1145022210608832\n"
     ]
    }
   ],
   "source": [
    "bike_num = len(df_rent['자전거번호'].unique())\n",
    "\n",
    "df_sprout = df_rent[df_rent['자전거번호'] >= \"SPB-80000\"]['자전거번호'].unique()\n",
    "sprout_num = len(df_sprout)\n",
    "sprout_pro = sprout_num / bike_num\n",
    "print(\"7~12월 새싹따릉이 운용 비율 :\", sprout_pro)"
   ]
  },
  {
   "cell_type": "code",
   "execution_count": 20,
   "id": "d5d4aafc",
   "metadata": {},
   "outputs": [
    {
     "name": "stdout",
     "output_type": "stream",
     "text": [
      "traning_data에서의 새싹따릉이 비율 : 0.02598460171750074\n"
     ]
    }
   ],
   "source": [
    "bike_num2 = len(df['자전거번호'].unique())\n",
    "\n",
    "df_sprout2 = df[(df['자전거번호'] >= \"SPB-80000\")]\n",
    "sprout_num2 = len(df_sprout2['자전거번호'].unique())\n",
    "sprout_pro2 = sprout_num2 / bike_num2\n",
    "print(\"traning_data에서의 새싹따릉이 비율 :\", sprout_pro2)"
   ]
  },
  {
   "cell_type": "code",
   "execution_count": 21,
   "id": "c3581fca",
   "metadata": {},
   "outputs": [
    {
     "name": "stdout",
     "output_type": "stream",
     "text": [
      "고장직전 대여이력 자전거 중 새싹따릉이 비율 : 0.020437432771602725\n",
      "고장직후 대여이력 자전거 중 새싹따릉이 비율 : 0.03188573077477998\n"
     ]
    }
   ],
   "source": [
    "df_broken = df[df['고장'] == 1]['자전거번호'].unique()\n",
    "df_normal = df[df['고장'] == 0]['자전거번호'].unique()\n",
    "\n",
    "df_sprout_broken = df[(df['자전거번호'] >= \"SPB-80000\") & (df['고장'] == 1)]['자전거번호'].unique()\n",
    "df_sprout_normal = df[(df['자전거번호'] >= \"SPB-80000\") & (df['고장'] == 0)]['자전거번호'].unique()\n",
    "\n",
    "# print(len(df_broken),len(df_normal), len(df_sprout_broken), len(df_sprout_normal))\n",
    "print(\"고장직전 대여이력 자전거 중 새싹따릉이 비율 :\", len(df_sprout_broken) / len(df_broken))\n",
    "print(\"고장직후 대여이력 자전거 중 새싹따릉이 비율 :\", len(df_sprout_normal) / len(df_normal))"
   ]
  },
  {
   "cell_type": "code",
   "execution_count": 23,
   "id": "fd4b6a57",
   "metadata": {},
   "outputs": [
    {
     "data": {
      "image/png": "[encoded data removed]",
      "text/plain": [
       "<Figure size 640x480 with 2 Axes>"
      ]
     },
     "metadata": {},
     "output_type": "display_data"
    }
   ],
   "source": [
    "labels = ['일반따릉이', '새싹따릉이']\n",
    "\n",
    "fig, axs = plt.subplots(1, 2)\n",
    "\n",
    "axs[0].pie([1 - sprout_pro, sprout_pro], labels=labels, autopct='%1.1f%%')\n",
    "axs[0].set_aspect('equal')\n",
    "axs[0].set_title('자전거운용비율')\n",
    "\n",
    "axs[1].pie([1 - sprout_pro2, sprout_pro2], labels=labels, autopct='%1.1f%%')\n",
    "axs[1].set_aspect('equal')\n",
    "axs[1].set_title('고장관련비율')\n",
    "\n",
    "plt.subplots_adjust(wspace=1)\n",
    "\n",
    "plt.show()"
   ]
  },
  {
   "cell_type": "markdown",
   "id": "c0a6d379",
   "metadata": {},
   "source": [
    "왼쪽 표는 7-12월 대여이력에서 자전거번호를 `unique()`하고 일반따릉이와 새삭따릉이의 비율을 나타낸 표입니다. 즉, 7-12월까지 운용된 자전거들 중 새삭따릉이의 비율은 11.5%입니다.\n",
    "\n",
    "오른쪽 표는 저희가 뽑아낸 고장 전,후 대여이력에서 자전거번호를 `unique()`하고 일반따릉이와 새삭따릉이의 비율을 나타낸 표입니다. 운용비율에 비해 고장비율은 눈에띄게 낮다는 사실을 알 수 있습니다."
   ]
  },
  {
   "cell_type": "markdown",
   "id": "d66425dd",
   "metadata": {},
   "source": [
    "<br>\n",
    "\n",
    "## 결론 및 해석\n",
    "\n",
    "**결론적으로, 새싹따릉이는 다른 자전거보다 고장비율이 적습니다.**\n",
    "\n",
    "해석해보자면, 새싹따릉이들은 2020년 11월 30부터 배치되기 시작하여 다른 따릉이들에 비해 최근에 배치가 시작된 것들이 많다고 합니다.\n",
    "\n",
    "따릉이가 배치된 기간이 길수록 고장날 확률이 높다는 가설을 세워 볼 수 있겠습니다."
   ]
  }
 ],
 "metadata": {
  "kernelspec": {
   "display_name": "Python [conda env:2023-DS-B] *",
   "language": "python",
   "name": "conda-env-2023-DS-B-py"
  },
  "language_info": {
   "codemirror_mode": {
    "name": "ipython",
    "version": 3
   },
   "file_extension": ".py",
   "mimetype": "text/x-python",
   "name": "python",
   "nbconvert_exporter": "python",
   "pygments_lexer": "ipython3",
   "version": "3.10.9"
  }
 },
 "nbformat": 4,
 "nbformat_minor": 5
}
