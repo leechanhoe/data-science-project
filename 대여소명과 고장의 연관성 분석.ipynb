{
 "cells": [
  {
   "cell_type": "markdown",
   "id": "29146bb5",
   "metadata": {},
   "source": [
    "# 대여소명과 고장의 연관성 분석"
   ]
  },
  {
   "cell_type": "code",
   "execution_count": 1,
   "id": "dcdf285c",
   "metadata": {},
   "outputs": [],
   "source": [
    "import pandas as pd"
   ]
  },
  {
   "cell_type": "code",
   "execution_count": 2,
   "id": "3c5ad85a",
   "metadata": {},
   "outputs": [],
   "source": [
    "df = pd.read_csv(\"training_data7~12.csv\")"
   ]
  },
  {
   "cell_type": "code",
   "execution_count": 56,
   "id": "3c52b6f0",
   "metadata": {},
   "outputs": [],
   "source": [
    "def 대여소명에_따른_분할(string = '학교'):\n",
    "    df_contain = df[(df['대여 대여소명'].str.contains(string)) | (df['반납대여소명'].str.contains(string))]\n",
    "\n",
    "    df_contain_broken = df_contain[df_contain['고장'] == 1]\n",
    "    df_contain_normal = df_contain[df_contain['고장'] == 0]\n",
    "\n",
    "    print(f\"고장데이터 : {len(df_contain_broken)}개 / 정상데이터 : {len(df_contain_normal)}개\")\n",
    "    \n",
    "    if len(df_contain_broken) >= len(df_contain_normal):\n",
    "        print(\"고장데이터가 정상데이터에 대해 {:.2f}% 더 많습니다.\".format((len(df_contain_broken) / len(df_contain_normal) - 1) * 100))\n",
    "    else:\n",
    "        print(\"정상데이터가 고장데이터에 대해 {:.2f}% 더 많습니다.\".format((len(df_contain_normal) / len(df_contain_broken) - 1) * 100))\n",
    "    return df_contain_broken, df_contain_normal"
   ]
  },
  {
   "cell_type": "code",
   "execution_count": 57,
   "id": "1827c196",
   "metadata": {},
   "outputs": [
    {
     "name": "stdout",
     "output_type": "stream",
     "text": [
      "고장데이터 : 1150개 / 정상데이터 : 994개\n",
      "고장데이터가 정상데이터에 대해 15.69% 더 많습니다.\n"
     ]
    }
   ],
   "source": [
    "df_broken, df_normal = 대여소명에_따른_분할('학교')"
   ]
  },
  {
   "cell_type": "code",
   "execution_count": 58,
   "id": "b27b016e",
   "metadata": {},
   "outputs": [
    {
     "name": "stdout",
     "output_type": "stream",
     "text": [
      "고장데이터 : 5993개 / 정상데이터 : 6117개\n",
      "정상데이터가 고장데이터에 대해 2.07% 더 많습니다.\n"
     ]
    }
   ],
   "source": [
    "df_broken, df_normal = 대여소명에_따른_분할('출구')"
   ]
  },
  {
   "cell_type": "code",
   "execution_count": 59,
   "id": "b1cdf1f9",
   "metadata": {},
   "outputs": [
    {
     "name": "stdout",
     "output_type": "stream",
     "text": [
      "고장데이터 : 2279개 / 정상데이터 : 2134개\n",
      "고장데이터가 정상데이터에 대해 6.79% 더 많습니다.\n"
     ]
    }
   ],
   "source": [
    "df_broken, df_normal = 대여소명에_따른_분할('아파트')"
   ]
  },
  {
   "cell_type": "code",
   "execution_count": 60,
   "id": "3172ff30",
   "metadata": {},
   "outputs": [
    {
     "name": "stdout",
     "output_type": "stream",
     "text": [
      "고장데이터 : 1439개 / 정상데이터 : 1369개\n",
      "고장데이터가 정상데이터에 대해 5.11% 더 많습니다.\n"
     ]
    }
   ],
   "source": [
    "df_broken, df_normal = 대여소명에_따른_분할('공원')"
   ]
  },
  {
   "cell_type": "code",
   "execution_count": 61,
   "id": "0d526163",
   "metadata": {},
   "outputs": [
    {
     "name": "stdout",
     "output_type": "stream",
     "text": [
      "고장데이터 : 364개 / 정상데이터 : 312개\n",
      "고장데이터가 정상데이터에 대해 16.67% 더 많습니다.\n"
     ]
    }
   ],
   "source": [
    "df_broken, df_normal = 대여소명에_따른_분할('병원')"
   ]
  },
  {
   "cell_type": "code",
   "execution_count": 62,
   "id": "9e51ac63",
   "metadata": {},
   "outputs": [
    {
     "name": "stdout",
     "output_type": "stream",
     "text": [
      "고장데이터 : 342개 / 정상데이터 : 319개\n",
      "고장데이터가 정상데이터에 대해 7.21% 더 많습니다.\n"
     ]
    }
   ],
   "source": [
    "df_broken, df_normal = 대여소명에_따른_분할('시장')"
   ]
  },
  {
   "cell_type": "code",
   "execution_count": 63,
   "id": "88d2049e",
   "metadata": {},
   "outputs": [
    {
     "name": "stdout",
     "output_type": "stream",
     "text": [
      "고장데이터 : 111개 / 정상데이터 : 142개\n",
      "정상데이터가 고장데이터에 대해 27.93% 더 많습니다.\n"
     ]
    }
   ],
   "source": [
    "df_broken, df_normal = 대여소명에_따른_분할('광장')"
   ]
  },
  {
   "cell_type": "code",
   "execution_count": 64,
   "id": "c8d97193",
   "metadata": {},
   "outputs": [
    {
     "name": "stdout",
     "output_type": "stream",
     "text": [
      "고장데이터 : 394개 / 정상데이터 : 289개\n",
      "고장데이터가 정상데이터에 대해 36.33% 더 많습니다.\n"
     ]
    }
   ],
   "source": [
    "df_broken, df_normal = 대여소명에_따른_분할('초등학교')"
   ]
  },
  {
   "cell_type": "code",
   "execution_count": 65,
   "id": "230f524c",
   "metadata": {},
   "outputs": [
    {
     "name": "stdout",
     "output_type": "stream",
     "text": [
      "고장데이터 : 304개 / 정상데이터 : 294개\n",
      "고장데이터가 정상데이터에 대해 3.40% 더 많습니다.\n"
     ]
    }
   ],
   "source": [
    "df_broken, df_normal = 대여소명에_따른_분할('중학교')"
   ]
  },
  {
   "cell_type": "code",
   "execution_count": 66,
   "id": "543f4e21",
   "metadata": {},
   "outputs": [
    {
     "name": "stdout",
     "output_type": "stream",
     "text": [
      "고장데이터 : 181개 / 정상데이터 : 169개\n",
      "고장데이터가 정상데이터에 대해 7.10% 더 많습니다.\n"
     ]
    }
   ],
   "source": [
    "df_broken, df_normal = 대여소명에_따른_분할('고등학교')"
   ]
  },
  {
   "cell_type": "code",
   "execution_count": 67,
   "id": "4e89f559",
   "metadata": {},
   "outputs": [
    {
     "name": "stdout",
     "output_type": "stream",
     "text": [
      "고장데이터 : 859개 / 정상데이터 : 778개\n",
      "고장데이터가 정상데이터에 대해 10.41% 더 많습니다.\n"
     ]
    }
   ],
   "source": [
    "df_broken, df_normal = 대여소명에_따른_분할('버스')"
   ]
  },
  {
   "cell_type": "code",
   "execution_count": 68,
   "id": "de31ab2c",
   "metadata": {},
   "outputs": [
    {
     "name": "stdout",
     "output_type": "stream",
     "text": [
      "고장데이터 : 243개 / 정상데이터 : 227개\n",
      "고장데이터가 정상데이터에 대해 7.05% 더 많습니다.\n"
     ]
    }
   ],
   "source": [
    "df_broken, df_normal = 대여소명에_따른_분할('대학교')"
   ]
  },
  {
   "cell_type": "code",
   "execution_count": 69,
   "id": "fd5e5401",
   "metadata": {},
   "outputs": [
    {
     "name": "stdout",
     "output_type": "stream",
     "text": [
      "고장데이터 : 6810개 / 정상데이터 : 6954개\n",
      "정상데이터가 고장데이터에 대해 2.11% 더 많습니다.\n"
     ]
    }
   ],
   "source": [
    "df_broken, df_normal = 대여소명에_따른_분할('역')"
   ]
  }
 ],
 "metadata": {
  "kernelspec": {
   "display_name": "Python 3 (ipykernel)",
   "language": "python",
   "name": "python3"
  },
  "language_info": {
   "codemirror_mode": {
    "name": "ipython",
    "version": 3
   },
   "file_extension": ".py",
   "mimetype": "text/x-python",
   "name": "python",
   "nbconvert_exporter": "python",
   "pygments_lexer": "ipython3",
   "version": "3.9.12"
  }
 },
 "nbformat": 4,
 "nbformat_minor": 5
}
