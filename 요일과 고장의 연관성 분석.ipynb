{
 "cells": [
  {
   "cell_type": "markdown",
   "id": "73834d51",
   "metadata": {},
   "source": [
    "# 요일과 고장의 연관성 분석\n",
    "\n",
    "<br>\n",
    "<br>"
   ]
  },
  {
   "cell_type": "code",
   "execution_count": 15,
   "id": "b0d2f2cc",
   "metadata": {},
   "outputs": [],
   "source": [
    "import pandas as pd\n",
    "import numpy as np\n",
    "import matplotlib\n",
    "import matplotlib.pyplot as plt\n",
    "matplotlib.rcParams['font.family'] ='Malgun Gothic'\n",
    "matplotlib.rcParams['axes.unicode_minus'] = False"
   ]
  },
  {
   "cell_type": "code",
   "execution_count": 16,
   "id": "b3901104",
   "metadata": {},
   "outputs": [
    {
     "data": {
      "text/html": [
       "<div>\n",
       "<style scoped>\n",
       "    .dataframe tbody tr th:only-of-type {\n",
       "        vertical-align: middle;\n",
       "    }\n",
       "\n",
       "    .dataframe tbody tr th {\n",
       "        vertical-align: top;\n",
       "    }\n",
       "\n",
       "    .dataframe thead th {\n",
       "        text-align: right;\n",
       "    }\n",
       "</style>\n",
       "<table border=\"1\" class=\"dataframe\">\n",
       "  <thead>\n",
       "    <tr style=\"text-align: right;\">\n",
       "      <th></th>\n",
       "      <th>자전거번호</th>\n",
       "      <th>대여일시</th>\n",
       "      <th>대여 대여소번호</th>\n",
       "      <th>대여 대여소명</th>\n",
       "      <th>반납일시</th>\n",
       "      <th>반납대여소번호</th>\n",
       "      <th>반납대여소명</th>\n",
       "      <th>이용시간(분)</th>\n",
       "      <th>이용거리(M)</th>\n",
       "      <th>생년</th>\n",
       "      <th>성별</th>\n",
       "      <th>이용자종류</th>\n",
       "      <th>대여요일</th>\n",
       "      <th>등록일시</th>\n",
       "      <th>고장구분</th>\n",
       "      <th>고장</th>\n",
       "    </tr>\n",
       "  </thead>\n",
       "  <tbody>\n",
       "    <tr>\n",
       "      <th>0</th>\n",
       "      <td>SPB-50867</td>\n",
       "      <td>2022-07-01 0:15</td>\n",
       "      <td>864</td>\n",
       "      <td>순천향대학병원(한남오거리)</td>\n",
       "      <td>2022-07-01 0:32</td>\n",
       "      <td>4607</td>\n",
       "      <td>국립중앙박물관 -용산가족공원 앞</td>\n",
       "      <td>16</td>\n",
       "      <td>3280.00</td>\n",
       "      <td>1992</td>\n",
       "      <td>M</td>\n",
       "      <td>내국인</td>\n",
       "      <td>Friday</td>\n",
       "      <td>2022-07-01 19:53</td>\n",
       "      <td>안장</td>\n",
       "      <td>1</td>\n",
       "    </tr>\n",
       "    <tr>\n",
       "      <th>1</th>\n",
       "      <td>SPB-40789</td>\n",
       "      <td>2022-07-01 0:23</td>\n",
       "      <td>5752</td>\n",
       "      <td>풍납백제문화공원 옆 인근</td>\n",
       "      <td>2022-07-01 0:31</td>\n",
       "      <td>1009</td>\n",
       "      <td>천호역4번출구(현대백화점)</td>\n",
       "      <td>7</td>\n",
       "      <td>1196.21</td>\n",
       "      <td>2001</td>\n",
       "      <td>M</td>\n",
       "      <td>내국인</td>\n",
       "      <td>Friday</td>\n",
       "      <td>2022-07-01 1:08</td>\n",
       "      <td>안장</td>\n",
       "      <td>1</td>\n",
       "    </tr>\n",
       "    <tr>\n",
       "      <th>2</th>\n",
       "      <td>SPB-40134</td>\n",
       "      <td>2022-07-01 0:32</td>\n",
       "      <td>1339</td>\n",
       "      <td>삼성전자서비스 성북센터</td>\n",
       "      <td>2022-07-01 0:57</td>\n",
       "      <td>1306</td>\n",
       "      <td>한성대입구역2번출구</td>\n",
       "      <td>25</td>\n",
       "      <td>3409.46</td>\n",
       "      <td>1998</td>\n",
       "      <td>F</td>\n",
       "      <td>내국인</td>\n",
       "      <td>Friday</td>\n",
       "      <td>2022-07-01 0:57</td>\n",
       "      <td>페달</td>\n",
       "      <td>1</td>\n",
       "    </tr>\n",
       "    <tr>\n",
       "      <th>3</th>\n",
       "      <td>SPB-50932</td>\n",
       "      <td>2022-07-01 0:59</td>\n",
       "      <td>670</td>\n",
       "      <td>삼육서울병원 버스정류장</td>\n",
       "      <td>2022-07-01 1:09</td>\n",
       "      <td>628</td>\n",
       "      <td>휘봉고등학교 앞</td>\n",
       "      <td>9</td>\n",
       "      <td>1103.01</td>\n",
       "      <td>1997</td>\n",
       "      <td>M</td>\n",
       "      <td>내국인</td>\n",
       "      <td>Friday</td>\n",
       "      <td>2022-07-01 1:09</td>\n",
       "      <td>체인</td>\n",
       "      <td>1</td>\n",
       "    </tr>\n",
       "    <tr>\n",
       "      <th>4</th>\n",
       "      <td>SPB-55153</td>\n",
       "      <td>2022-07-01 1:00</td>\n",
       "      <td>1661</td>\n",
       "      <td>당현천근린공원</td>\n",
       "      <td>2022-07-01 1:04</td>\n",
       "      <td>1656</td>\n",
       "      <td>중앙하이츠 아파트 입구</td>\n",
       "      <td>4</td>\n",
       "      <td>852.32</td>\n",
       "      <td>1997</td>\n",
       "      <td>M</td>\n",
       "      <td>내국인</td>\n",
       "      <td>Friday</td>\n",
       "      <td>2022-07-01 8:03</td>\n",
       "      <td>기타</td>\n",
       "      <td>1</td>\n",
       "    </tr>\n",
       "  </tbody>\n",
       "</table>\n",
       "</div>"
      ],
      "text/plain": [
       "       자전거번호             대여일시  대여 대여소번호         대여 대여소명             반납일시  \\\n",
       "0  SPB-50867  2022-07-01 0:15       864  순천향대학병원(한남오거리)  2022-07-01 0:32   \n",
       "1  SPB-40789  2022-07-01 0:23      5752   풍납백제문화공원 옆 인근  2022-07-01 0:31   \n",
       "2  SPB-40134  2022-07-01 0:32      1339    삼성전자서비스 성북센터  2022-07-01 0:57   \n",
       "3  SPB-50932  2022-07-01 0:59       670    삼육서울병원 버스정류장  2022-07-01 1:09   \n",
       "4  SPB-55153  2022-07-01 1:00      1661         당현천근린공원  2022-07-01 1:04   \n",
       "\n",
       "   반납대여소번호             반납대여소명  이용시간(분)  이용거리(M)    생년 성별 이용자종류    대여요일  \\\n",
       "0     4607  국립중앙박물관 -용산가족공원 앞       16  3280.00  1992  M   내국인  Friday   \n",
       "1     1009     천호역4번출구(현대백화점)        7  1196.21  2001  M   내국인  Friday   \n",
       "2     1306         한성대입구역2번출구       25  3409.46  1998  F   내국인  Friday   \n",
       "3      628           휘봉고등학교 앞        9  1103.01  1997  M   내국인  Friday   \n",
       "4     1656       중앙하이츠 아파트 입구        4   852.32  1997  M   내국인  Friday   \n",
       "\n",
       "               등록일시 고장구분  고장  \n",
       "0  2022-07-01 19:53   안장   1  \n",
       "1   2022-07-01 1:08   안장   1  \n",
       "2   2022-07-01 0:57   페달   1  \n",
       "3   2022-07-01 1:09   체인   1  \n",
       "4   2022-07-01 8:03  기타    1  "
      ]
     },
     "execution_count": 16,
     "metadata": {},
     "output_type": "execute_result"
    }
   ],
   "source": [
    "df = pd.read_csv(\"training_data7~12.csv\")\n",
    "df.head()"
   ]
  },
  {
   "cell_type": "markdown",
   "id": "58ead414",
   "metadata": {},
   "source": [
    "<br>\n",
    "\n",
    "## 1. 요일에 따른 고장비율 분석"
   ]
  },
  {
   "cell_type": "code",
   "execution_count": 17,
   "id": "03ca766b",
   "metadata": {},
   "outputs": [],
   "source": [
    "def 요일에_따른_분할(day):\n",
    "    df_day = df[df['대여요일'] == day]\n",
    "    \n",
    "    df_broken = df_day[df_day['고장'] == 1]\n",
    "    df_normal = df_day[df_day['고장'] == 0]\n",
    "    \n",
    "    print(f\"'{day}'의 고장데이터 : {len(df_broken)}개 / '{day}'의 정상데이터 : {len(df_normal)}개\")\n",
    "    \n",
    "    if len(df_broken) >= len(df_normal):\n",
    "        print(\"고장데이터가 정상데이터에 대해 {:.2f}% 더 많습니다.\".format((len(df_broken) / len(df_normal) - 1) * 100))\n",
    "    else:\n",
    "        print(\"정상데이터가 고장데이터에 대해 {:.2f}% 더 많습니다.\".format((len(df_normal) / len(df_broken) - 1) * 100))\n",
    "    return [len(df_broken), len(df_normal), day]"
   ]
  },
  {
   "cell_type": "code",
   "execution_count": 18,
   "id": "d8af08c8",
   "metadata": {},
   "outputs": [
    {
     "name": "stdout",
     "output_type": "stream",
     "text": [
      "'Saturday'의 고장데이터 : 1542개 / 'Saturday'의 정상데이터 : 1560개\n",
      "정상데이터가 고장데이터에 대해 1.17% 더 많습니다.\n",
      "\n",
      "'Friday'의 고장데이터 : 2278개 / 'Friday'의 정상데이터 : 2310개\n",
      "정상데이터가 고장데이터에 대해 1.40% 더 많습니다.\n",
      "\n",
      "'Thursday'의 고장데이터 : 2898개 / 'Thursday'의 정상데이터 : 2640개\n",
      "고장데이터가 정상데이터에 대해 9.77% 더 많습니다.\n",
      "\n",
      "'Wednesday'의 고장데이터 : 2225개 / 'Wednesday'의 정상데이터 : 2759개\n",
      "정상데이터가 고장데이터에 대해 24.00% 더 많습니다.\n",
      "\n",
      "'Tuesday'의 고장데이터 : 1960개 / 'Tuesday'의 정상데이터 : 1741개\n",
      "고장데이터가 정상데이터에 대해 12.58% 더 많습니다.\n",
      "\n",
      "'Monday'의 고장데이터 : 1396개 / 'Monday'의 정상데이터 : 1196개\n",
      "고장데이터가 정상데이터에 대해 16.72% 더 많습니다.\n",
      "\n",
      "'Sunday'의 고장데이터 : 908개 / 'Sunday'의 정상데이터 : 1001개\n",
      "정상데이터가 고장데이터에 대해 10.24% 더 많습니다.\n",
      "\n"
     ]
    }
   ],
   "source": [
    "days = ['Sunday', 'Monday', 'Tuesday', 'Wednesday', 'Thursday', 'Friday', 'Saturday']\n",
    "data = []\n",
    "\n",
    "for day in reversed(days):\n",
    "    data.append(요일에_따른_분할(day))\n",
    "    print()"
   ]
  },
  {
   "cell_type": "code",
   "execution_count": 19,
   "id": "d165c8ba",
   "metadata": {},
   "outputs": [
    {
     "data": {
      "image/png": "[encoded data removed]",
      "text/plain": [
       "<Figure size 640x480 with 1 Axes>"
      ]
     },
     "metadata": {},
     "output_type": "display_data"
    }
   ],
   "source": [
    "# 각 데이터 리스트에서 고장 수와 정상 수를 추출\n",
    "values1 = [x[0] for x in data]\n",
    "values2 = [x[1] for x in data]\n",
    "labels = [x[2] for x in data]\n",
    "\n",
    "# '고장 수'와 '정상 수' 합치기\n",
    "total = [i + j for i, j in zip(values1, values2)]\n",
    "\n",
    "# 비율 구하기\n",
    "values1 = [x / y for x, y in zip(values1, total)]\n",
    "values2 = [x / y for x, y in zip(values2, total)]\n",
    "total = [1 for _ in range(len(data))]  # 모든 Total의 합이 1이 되도록 설정\n",
    "\n",
    "# 그래프 그리기\n",
    "fig, ax = plt.subplots()\n",
    "\n",
    "bar_width = 0.35\n",
    "index = np.arange(len(data))\n",
    "\n",
    "rects1 = ax.barh(index, values1, bar_width, label='고장')\n",
    "rects2 = ax.barh(index, values2, bar_width, left=values1, label='정상')\n",
    "\n",
    "# y-축의 눈금과 라벨을 설정\n",
    "tick_locations = index\n",
    "plt.yticks(tick_locations, labels)\n",
    "\n",
    "ax.set_xlim([0, 1])  # x-축의 범위를 0~1로 지정\n",
    "ax.axvline(x=0.5, linestyle='--', color='gray') # x 값이 0.5인 위치에 점선 추가\n",
    "ax.legend()\n",
    "\n",
    "plt.show()"
   ]
  },
  {
   "cell_type": "markdown",
   "id": "0429b1e9",
   "metadata": {},
   "source": [
    "### 분석결과\n",
    "\n",
    "요일별로 고장정상비율을 살펴보면, 비율이 유의미하게 차이가 나는 요일이 보입니다.\n",
    "\n",
    "**월요일, 화요일, 목요일은 고장 비율이 정상 비율에 비해 10%이상 높습니다.**\n",
    "\n",
    "**일요일, 수요일은 정상 비율이 고장 비율에 비해 10%이상 높습니다.**\n",
    "\n",
    "금요일, 토요일은 비율이 비슷합니다."
   ]
  },
  {
   "cell_type": "markdown",
   "id": "d0c18eb7",
   "metadata": {},
   "source": [
    "<br>\n",
    "<br>\n",
    "\n",
    "## 2. 주말, 평일에 따른 고장비율 분석"
   ]
  },
  {
   "cell_type": "code",
   "execution_count": 20,
   "id": "063dc53b",
   "metadata": {},
   "outputs": [],
   "source": [
    "df_weekend = df[(df['대여요일'] == 'Saturday') | (df['대여요일'] == 'Sunday')]\n",
    "df_weekend_broken = df_weekend[df_weekend['고장'] == 1]\n",
    "df_weekend_normal = df_weekend[df_weekend['고장'] == 0]\n",
    "\n",
    "df_weekday = df[(df['대여요일'] != 'Saturday') & (df['대여요일'] != 'Sunday')]\n",
    "df_weekday_broken = df_weekday[df_weekday['고장'] == 1]\n",
    "df_weekday_normal = df_weekday[df_weekday['고장'] == 0]"
   ]
  },
  {
   "cell_type": "code",
   "execution_count": 21,
   "id": "ff732723",
   "metadata": {},
   "outputs": [
    {
     "data": {
      "image/png": "[encoded data removed]",
      "text/plain": [
       "<Figure size 640x480 with 2 Axes>"
      ]
     },
     "metadata": {},
     "output_type": "display_data"
    }
   ],
   "source": [
    "labels = ['고장', '정상']\n",
    "\n",
    "fig, axs = plt.subplots(1, 2)\n",
    "\n",
    "axs[0].pie([len(df_weekend_broken), len(df_weekend_normal)], labels=labels, autopct='%1.1f%%')\n",
    "axs[0].set_aspect('equal')\n",
    "axs[0].set_title('주말 고장비율')\n",
    "\n",
    "axs[1].pie([len(df_weekday_broken), len(df_weekday_normal)], labels=labels, autopct='%1.1f%%')\n",
    "axs[1].set_aspect('equal')\n",
    "axs[1].set_title('평일 고장비율')\n",
    "\n",
    "plt.subplots_adjust(wspace=1)\n",
    "\n",
    "plt.show()"
   ]
  },
  {
   "cell_type": "markdown",
   "id": "57aff18e",
   "metadata": {},
   "source": [
    "### 분석결과\n",
    "\n",
    "주말, 평일에 따른 고장비율은 유의미한 차이를 얻지 못했습니다."
   ]
  },
  {
   "cell_type": "markdown",
   "id": "e3cd80d9",
   "metadata": {},
   "source": [
    "<br>\n",
    "\n",
    "## 해석\n",
    "\n",
    "분석하기 전에는, 주말과 평일에 따라 유의미한 분석결과를 얻을 수 있을 것이라고 예상했습니다.\n",
    "\n",
    "하지만, 요일에 따른 고장비율은 생각보다 편차가 있었습니다.\n",
    "\n",
    "**특히, 수요일은 정상 비율이 고장 비율에 비해 24%나 높은데, 어떤 이유인지 추측하기 어렵습니다.**\n",
    "\n",
    "이유를 알기 위해서는 각 요일별 특징들을 깊게 알아봐야 할 것 같습니다."
   ]
  }
 ],
 "metadata": {
  "kernelspec": {
   "display_name": "Python [conda env:2023-DS-B] *",
   "language": "python",
   "name": "conda-env-2023-DS-B-py"
  },
  "language_info": {
   "codemirror_mode": {
    "name": "ipython",
    "version": 3
   },
   "file_extension": ".py",
   "mimetype": "text/x-python",
   "name": "python",
   "nbconvert_exporter": "python",
   "pygments_lexer": "ipython3",
   "version": "3.10.9"
  }
 },
 "nbformat": 4,
 "nbformat_minor": 5
}
