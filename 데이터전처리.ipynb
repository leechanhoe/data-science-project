{
 "cells": [
  {
   "cell_type": "markdown",
   "metadata": {},
   "source": [
    "# 데이터 전처리"
   ]
  },
  {
   "cell_type": "code",
   "execution_count": 40,
   "metadata": {
    "id": "1JHWXDBwvcch"
   },
   "outputs": [],
   "source": [
    "import pandas as pd\n",
    "\n",
    "START_MONTH = 7\n",
    "END_MONTH = 12\n",
    "df_rent = [None] * 13 # [n] = n월 대여이력\n",
    "df_broken = [None] * 13 # [n] = n월 고장신고내역"
   ]
  },
  {
   "cell_type": "markdown",
   "metadata": {
    "id": "wEXwCYvJ9yVq"
   },
   "source": [
    "<br>\n",
    "\n",
    "## 데이터프레임 로드"
   ]
  },
  {
   "cell_type": "code",
   "execution_count": 41,
   "metadata": {
    "id": "n8mHRVnPvf4K"
   },
   "outputs": [],
   "source": [
    "df_rent[7] = pd.read_csv(\"서울특별시 공공자전거 대여이력 정보_2207.csv\")\n",
    "df_rent[8] = pd.read_csv(\"서울특별시 공공자전거 대여이력 정보_22081.csv\")\n",
    "df_rent[9] = pd.read_csv(\"서울특별시 공공자전거 대여이력 정보_2209.csv\")\n",
    "df_rent[10] = pd.read_csv(\"서울특별시 공공자전거 대여이력 정보_2210.csv\")\n",
    "df_rent[11] = pd.read_csv(\"서울특별시 공공자전거 대여이력 정보_2211.csv\")\n",
    "df_rent[12] = pd.read_csv(\"서울특별시 공공자전거 대여이력 정보_2212.csv\")\n",
    "df_broken[0] = pd.read_csv(\"서울시 공공자전거 고장신고 내역_22.07-12.csv\")"
   ]
  },
  {
   "cell_type": "markdown",
   "metadata": {
    "id": "ujwnujU252XI"
   },
   "source": [
    "<br>\n",
    "\n",
    "## 대여이력 전처리"
   ]
  },
  {
   "cell_type": "code",
   "execution_count": 42,
   "metadata": {},
   "outputs": [
    {
     "name": "stderr",
     "output_type": "stream",
     "text": [
      "C:\\Users\\imihl\\AppData\\Local\\Temp\\ipykernel_1256\\964684185.py:9: FutureWarning: The default value of regex will change from True to False in a future version. In addition, single character regular expressions will *not* be treated as literal strings when regex=True.\n",
      "  df[\"반납대여소번호\"] = df[\"반납대여소번호\"].str.replace('\\\\','')\n",
      "C:\\Users\\imihl\\AppData\\Local\\Temp\\ipykernel_1256\\964684185.py:9: FutureWarning: The default value of regex will change from True to False in a future version. In addition, single character regular expressions will *not* be treated as literal strings when regex=True.\n",
      "  df[\"반납대여소번호\"] = df[\"반납대여소번호\"].str.replace('\\\\','')\n",
      "C:\\Users\\imihl\\AppData\\Local\\Temp\\ipykernel_1256\\964684185.py:9: FutureWarning: The default value of regex will change from True to False in a future version. In addition, single character regular expressions will *not* be treated as literal strings when regex=True.\n",
      "  df[\"반납대여소번호\"] = df[\"반납대여소번호\"].str.replace('\\\\','')\n",
      "C:\\Users\\imihl\\AppData\\Local\\Temp\\ipykernel_1256\\964684185.py:9: FutureWarning: The default value of regex will change from True to False in a future version. In addition, single character regular expressions will *not* be treated as literal strings when regex=True.\n",
      "  df[\"반납대여소번호\"] = df[\"반납대여소번호\"].str.replace('\\\\','')\n",
      "C:\\Users\\imihl\\AppData\\Local\\Temp\\ipykernel_1256\\964684185.py:9: FutureWarning: The default value of regex will change from True to False in a future version. In addition, single character regular expressions will *not* be treated as literal strings when regex=True.\n",
      "  df[\"반납대여소번호\"] = df[\"반납대여소번호\"].str.replace('\\\\','')\n",
      "C:\\Users\\imihl\\AppData\\Local\\Temp\\ipykernel_1256\\964684185.py:9: FutureWarning: The default value of regex will change from True to False in a future version. In addition, single character regular expressions will *not* be treated as literal strings when regex=True.\n",
      "  df[\"반납대여소번호\"] = df[\"반납대여소번호\"].str.replace('\\\\','')\n"
     ]
    }
   ],
   "source": [
    "def pre_process_rent(df, month):\n",
    "    df = df[(df['대여일시'] != '0000-00-00 00:00:00') & (df['반납일시'] != '0000-00-00 00:00:00')]\n",
    "    df['대여일시'] = pd.to_datetime(df['대여일시'])\n",
    "    df['반납일시'] = pd.to_datetime(df['반납일시'])\n",
    "    df.drop(['대여거치대', '반납거치대', '대여대여소ID', '반납대여소ID'], axis=1, inplace=True)\n",
    "    df = df[(df['성별'] == 'M') | (df['성별'] == 'F')]\n",
    "    df = df[df['생년'] != '1901']\n",
    "    df = df[df['생년'] != '\\\\N']\n",
    "    df[\"반납대여소번호\"] = df[\"반납대여소번호\"].str.replace('\\\\','')\n",
    "    df[\"반납대여소번호\"] = df[\"반납대여소번호\"].str.replace('N','-1')\n",
    "    df['대여요일'] = df['대여일시'].dt.day_name()\n",
    "    \n",
    "    return df\n",
    "\n",
    "for month in range(START_MONTH, END_MONTH + 1):\n",
    "    df_rent[month] = pre_process_rent(df_rent[month], month)"
   ]
  },
  {
   "cell_type": "markdown",
   "metadata": {
    "id": "z1c4qtpb8qX1"
   },
   "source": [
    "<br>\n",
    "\n",
    "## 고장신고내역 전처리"
   ]
  },
  {
   "cell_type": "code",
   "execution_count": 43,
   "metadata": {
    "id": "Ec9jITll76Pf"
   },
   "outputs": [],
   "source": [
    "df_broken[0]['등록일시'] = pd.to_datetime(df_broken[0]['등록일시'])\n",
    "for month in range(START_MONTH, END_MONTH + 1):\n",
    "    df_broken[month] = df_broken[0][pd.DatetimeIndex(df_broken[0]['등록일시']).month == month]\n",
    "    df_broken[month] = df_broken[month].drop_duplicates('자전거번호',keep='last')#마지막 신고이력 남기기"
   ]
  },
  {
   "cell_type": "markdown",
   "metadata": {},
   "source": [
    "<br>\n",
    "\n",
    "## 고장데이터만 추출\n",
    "\n",
    "고장신고 전 제일 최근의 대여이력을 추출하였습니다."
   ]
  },
  {
   "cell_type": "code",
   "execution_count": 44,
   "metadata": {},
   "outputs": [],
   "source": [
    "bad = [None] * 13\n",
    "for month in range(START_MONTH, END_MONTH + 1):    \n",
    "    broken = pd.merge(df_rent[month], df_broken[month],on='자전거번호')\n",
    "    broken = broken[broken['대여일시'] <= broken['등록일시']] # 고장신고 이전에 대여된 이력\n",
    "    broken = broken[broken['대여 대여소명'] != broken['반납대여소명']]# 같은곳에서 반납된것 드랍\n",
    "    broken = broken[broken['이용시간(분)'] > 2] # 2분이하로 탄 것 드랍\n",
    "\n",
    "    broken = broken[(broken['등록일시'] - broken['반납일시']) <= pd.to_timedelta(2, unit = 'D')]\n",
    "    broken = broken.drop_duplicates(['자전거번호'],keep='last')\n",
    "    broken['고장'] = 1\n",
    "    \n",
    "    bad[month] = broken"
   ]
  },
  {
   "cell_type": "markdown",
   "metadata": {},
   "source": [
    "<br>\n",
    "\n",
    "## 정상데이터만 추출\n",
    "\n",
    "고장 수리후 첫번째, 두번째 대여이력을 추출하였습니다."
   ]
  },
  {
   "cell_type": "code",
   "execution_count": 47,
   "metadata": {},
   "outputs": [],
   "source": [
    "normal = [None] * 13\n",
    "for month in range(START_MONTH, END_MONTH + 1):\n",
    "    good = pd.merge(df_rent[month], df_broken[month],on='자전거번호')\n",
    "    good = good[good['대여일시'] > good['등록일시']]\n",
    "    good_first = good.drop_duplicates('자전거번호',keep='first')\n",
    "\n",
    "    good_exceptfirst = pd.merge(good, good_first, how='outer', indicator=True).query(\"_merge == 'left_only'\").drop(columns=['_merge'])\n",
    "    good_second = good_exceptfirst.drop_duplicates('자전거번호',keep='first')\n",
    "    \n",
    "    good_firstAndSecond = pd.concat([good_first,good_second])\n",
    "    good_firstAndSecond = good_firstAndSecond[good_firstAndSecond['대여 대여소명'] != good_firstAndSecond['반납대여소명']]#같은곳에서 반납된것 드랍\n",
    "    good_firstAndSecond = good_firstAndSecond[good_firstAndSecond['이용시간(분)'] > 2]\n",
    "    \n",
    "    good_firstAndSecond['고장'] = 0\n",
    "    \n",
    "    normal[month] = good_firstAndSecond"
   ]
  },
  {
   "cell_type": "markdown",
   "metadata": {},
   "source": [
    "<br>\n",
    "\n",
    "## 고장, 정상데이터 병합\n",
    "\n",
    "고장 13207개, 정상 13207개 총 26414개의 데이터입니다."
   ]
  },
  {
   "cell_type": "code",
   "execution_count": 48,
   "metadata": {},
   "outputs": [
    {
     "data": {
      "text/html": [
       "<div>\n",
       "<style scoped>\n",
       "    .dataframe tbody tr th:only-of-type {\n",
       "        vertical-align: middle;\n",
       "    }\n",
       "\n",
       "    .dataframe tbody tr th {\n",
       "        vertical-align: top;\n",
       "    }\n",
       "\n",
       "    .dataframe thead th {\n",
       "        text-align: right;\n",
       "    }\n",
       "</style>\n",
       "<table border=\"1\" class=\"dataframe\">\n",
       "  <thead>\n",
       "    <tr style=\"text-align: right;\">\n",
       "      <th></th>\n",
       "      <th>자전거번호</th>\n",
       "      <th>대여일시</th>\n",
       "      <th>대여 대여소번호</th>\n",
       "      <th>대여 대여소명</th>\n",
       "      <th>반납일시</th>\n",
       "      <th>반납대여소번호</th>\n",
       "      <th>반납대여소명</th>\n",
       "      <th>이용시간(분)</th>\n",
       "      <th>이용거리(M)</th>\n",
       "      <th>생년</th>\n",
       "      <th>성별</th>\n",
       "      <th>이용자종류</th>\n",
       "      <th>대여요일</th>\n",
       "      <th>등록일시</th>\n",
       "      <th>고장구분</th>\n",
       "      <th>고장</th>\n",
       "    </tr>\n",
       "  </thead>\n",
       "  <tbody>\n",
       "    <tr>\n",
       "      <th>178996</th>\n",
       "      <td>SPB-56738</td>\n",
       "      <td>2022-07-05 22:47:00</td>\n",
       "      <td>1452</td>\n",
       "      <td>겸재교 진입부</td>\n",
       "      <td>2022-07-05 23:20:00</td>\n",
       "      <td>604</td>\n",
       "      <td>답십리초등학교 옆 공원</td>\n",
       "      <td>33</td>\n",
       "      <td>4290.00</td>\n",
       "      <td>2005</td>\n",
       "      <td>M</td>\n",
       "      <td>내국인</td>\n",
       "      <td>Tuesday</td>\n",
       "      <td>2022-07-06 08:59:00</td>\n",
       "      <td>타이어</td>\n",
       "      <td>1</td>\n",
       "    </tr>\n",
       "    <tr>\n",
       "      <th>215151</th>\n",
       "      <td>SPB-46107</td>\n",
       "      <td>2022-07-02 20:18:00</td>\n",
       "      <td>4468</td>\n",
       "      <td>가락1동주민센터</td>\n",
       "      <td>2022-07-02 20:22:00</td>\n",
       "      <td>2648</td>\n",
       "      <td>헬리오시티 112동 앞</td>\n",
       "      <td>4</td>\n",
       "      <td>577.04</td>\n",
       "      <td>1978</td>\n",
       "      <td>F</td>\n",
       "      <td>내국인</td>\n",
       "      <td>Saturday</td>\n",
       "      <td>2022-07-02 20:23:00</td>\n",
       "      <td>안장</td>\n",
       "      <td>1</td>\n",
       "    </tr>\n",
       "    <tr>\n",
       "      <th>120595</th>\n",
       "      <td>SPB-61188</td>\n",
       "      <td>2022-07-08 01:22:00</td>\n",
       "      <td>1230</td>\n",
       "      <td>송파중학교 정문</td>\n",
       "      <td>2022-07-08 01:28:00</td>\n",
       "      <td>1282</td>\n",
       "      <td>송파소방서 맞은편(성내4교)</td>\n",
       "      <td>6</td>\n",
       "      <td>1230.00</td>\n",
       "      <td>2002</td>\n",
       "      <td>F</td>\n",
       "      <td>내국인</td>\n",
       "      <td>Friday</td>\n",
       "      <td>2022-07-08 08:53:00</td>\n",
       "      <td>안장</td>\n",
       "      <td>1</td>\n",
       "    </tr>\n",
       "    <tr>\n",
       "      <th>144759</th>\n",
       "      <td>SPB-30387</td>\n",
       "      <td>2022-07-01 22:03:00</td>\n",
       "      <td>155</td>\n",
       "      <td>가좌역1 번출구 앞</td>\n",
       "      <td>2022-07-01 22:07:00</td>\n",
       "      <td>3131</td>\n",
       "      <td>연가교 교차로</td>\n",
       "      <td>4</td>\n",
       "      <td>765.88</td>\n",
       "      <td>1985</td>\n",
       "      <td>M</td>\n",
       "      <td>내국인</td>\n",
       "      <td>Friday</td>\n",
       "      <td>2022-07-02 03:20:00</td>\n",
       "      <td>기타</td>\n",
       "      <td>1</td>\n",
       "    </tr>\n",
       "    <tr>\n",
       "      <th>175744</th>\n",
       "      <td>SPB-59909</td>\n",
       "      <td>2022-07-08 07:44:00</td>\n",
       "      <td>3509</td>\n",
       "      <td>세종사이버대학교</td>\n",
       "      <td>2022-07-08 07:52:00</td>\n",
       "      <td>501</td>\n",
       "      <td>광진구의회 앞</td>\n",
       "      <td>7</td>\n",
       "      <td>1960.00</td>\n",
       "      <td>2004</td>\n",
       "      <td>M</td>\n",
       "      <td>내국인</td>\n",
       "      <td>Friday</td>\n",
       "      <td>2022-07-08 08:20:00</td>\n",
       "      <td>기타</td>\n",
       "      <td>1</td>\n",
       "    </tr>\n",
       "  </tbody>\n",
       "</table>\n",
       "</div>"
      ],
      "text/plain": [
       "            자전거번호                대여일시  대여 대여소번호     대여 대여소명  \\\n",
       "178996  SPB-56738 2022-07-05 22:47:00      1452     겸재교 진입부   \n",
       "215151  SPB-46107 2022-07-02 20:18:00      4468    가락1동주민센터   \n",
       "120595  SPB-61188 2022-07-08 01:22:00      1230    송파중학교 정문   \n",
       "144759  SPB-30387 2022-07-01 22:03:00       155  가좌역1 번출구 앞   \n",
       "175744  SPB-59909 2022-07-08 07:44:00      3509    세종사이버대학교   \n",
       "\n",
       "                      반납일시 반납대여소번호           반납대여소명  이용시간(분)  이용거리(M)    생년  \\\n",
       "178996 2022-07-05 23:20:00     604     답십리초등학교 옆 공원       33  4290.00  2005   \n",
       "215151 2022-07-02 20:22:00    2648     헬리오시티 112동 앞        4   577.04  1978   \n",
       "120595 2022-07-08 01:28:00    1282  송파소방서 맞은편(성내4교)        6  1230.00  2002   \n",
       "144759 2022-07-01 22:07:00    3131          연가교 교차로        4   765.88  1985   \n",
       "175744 2022-07-08 07:52:00     501          광진구의회 앞        7  1960.00  2004   \n",
       "\n",
       "       성별 이용자종류      대여요일                등록일시  고장구분  고장  \n",
       "178996  M   내국인   Tuesday 2022-07-06 08:59:00  타이어    1  \n",
       "215151  F   내국인  Saturday 2022-07-02 20:23:00    안장   1  \n",
       "120595  F   내국인    Friday 2022-07-08 08:53:00    안장   1  \n",
       "144759  M   내국인    Friday 2022-07-02 03:20:00   기타    1  \n",
       "175744  M   내국인    Friday 2022-07-08 08:20:00   기타    1  "
      ]
     },
     "execution_count": 48,
     "metadata": {},
     "output_type": "execute_result"
    }
   ],
   "source": [
    "train_data = None\n",
    "for month in range(START_MONTH, END_MONTH + 1):\n",
    "    bad[month] = bad[month].sample(n=len(normal[month]))\n",
    "    train = pd.concat([bad[month], normal[month]])\n",
    "    if month == START_MONTH:\n",
    "        train_data = train\n",
    "    else:\n",
    "        train_data = pd.concat([train_data, train])\n",
    "    \n",
    "train_data.sort_values('대여일시')\n",
    "train_data.head()"
   ]
  },
  {
   "cell_type": "markdown",
   "metadata": {},
   "source": [
    "<br>\n",
    "\n",
    "## 파일변환"
   ]
  },
  {
   "cell_type": "code",
   "execution_count": null,
   "metadata": {},
   "outputs": [],
   "source": [
    "train_data.to_csv(\"training_data7~12.csv\", encoding='cp949', index=False)"
   ]
  }
 ],
 "metadata": {
  "colab": {
   "collapsed_sections": [
    "ldZe-rEeesps"
   ],
   "provenance": []
  },
  "kernelspec": {
   "display_name": "Python 3 (ipykernel)",
   "language": "python",
   "name": "python3"
  },
  "language_info": {
   "codemirror_mode": {
    "name": "ipython",
    "version": 3
   },
   "file_extension": ".py",
   "mimetype": "text/x-python",
   "name": "python",
   "nbconvert_exporter": "python",
   "pygments_lexer": "ipython3",
   "version": "3.10.9"
  }
 },
 "nbformat": 4,
 "nbformat_minor": 1
}
